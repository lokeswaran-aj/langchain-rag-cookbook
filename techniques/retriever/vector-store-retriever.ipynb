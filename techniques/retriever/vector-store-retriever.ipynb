{
 "cells": [
  {
   "cell_type": "code",
   "execution_count": 1,
   "metadata": {},
   "outputs": [
    {
     "name": "stdout",
     "output_type": "stream",
     "text": [
      "Note: you may need to restart the kernel to use updated packages.\n"
     ]
    }
   ],
   "source": [
    "%pip install -qU langchain"
   ]
  },
  {
   "cell_type": "code",
   "execution_count": 7,
   "metadata": {},
   "outputs": [
    {
     "data": {
      "text/html": [
       "<pre style=\"white-space:pre;overflow-x:auto;line-height:normal;font-family:Menlo,'DejaVu Sans Mono',consolas,'Courier New',monospace\"><span style=\"font-weight: bold\">[</span>\n",
       "    <span style=\"color: #800080; text-decoration-color: #800080; font-weight: bold\">Document</span><span style=\"font-weight: bold\">(</span>\n",
       "        <span style=\"color: #808000; text-decoration-color: #808000\">metadata</span>=<span style=\"font-weight: bold\">{</span>\n",
       "            <span style=\"color: #008000; text-decoration-color: #008000\">'title'</span>: <span style=\"color: #008000; text-decoration-color: #008000\">'AI Agents | Lee Robinson'</span>,\n",
       "            <span style=\"color: #008000; text-decoration-color: #008000\">'source'</span>: <span style=\"color: #008000; text-decoration-color: #008000\">'https://leerob.com/agents'</span>,\n",
       "            <span style=\"color: #008000; text-decoration-color: #008000\">'language'</span>: <span style=\"color: #008000; text-decoration-color: #008000\">'en'</span>,\n",
       "            <span style=\"color: #008000; text-decoration-color: #008000\">'description'</span>: <span style=\"color: #008000; text-decoration-color: #008000\">'I teach developers how to build the future.'</span>\n",
       "        <span style=\"font-weight: bold\">}</span>,\n",
       "        <span style=\"color: #808000; text-decoration-color: #808000\">page_content</span>=<span style=\"color: #008000; text-decoration-color: #008000\">'Let\\'s talk through each tool. Cursor (Primary IDE)\\nI\\'ve been using Cursor as my primary </span>\n",
       "<span style=\"color: #008000; text-decoration-color: #008000\">IDE for about 4 months. Before that, I spent 6 months¹ flipping between Zed and Neovim (after using VS Code for a </span>\n",
       "<span style=\"color: #008000; text-decoration-color: #008000\">long time). Cursor is really good. For me, Cursor brings the familiarity of VS Code with the best AI interface for </span>\n",
       "<span style=\"color: #008000; text-decoration-color: #008000\">general programming (reading files, quick edits, tab completion). Sounds silly but the built-in git diff of VS Code</span>\n",
       "<span style=\"color: #008000; text-decoration-color: #008000\">is incredible and I prefer it over many other tools. I\\'ve only started to briefly experiment with background </span>\n",
       "<span style=\"color: #008000; text-decoration-color: #008000\">agents, because at about the same time I started trying out Claude Code. Cursor seems to keep getting better on </span>\n",
       "<span style=\"color: #008000; text-decoration-color: #008000\">every release, so I\\'m going to stick with it. Claude Code (Agentic Loops)\\nClaude Code is the first CLI agent </span>\n",
       "<span style=\"color: #008000; text-decoration-color: #008000\">I\\'ve been extensively testing. There are others in the space (including OSS versions) which likely have similar </span>\n",
       "<span style=\"color: #008000; text-decoration-color: #008000\">properties, so it\\'s too soon for me to say one is dramatically better than others. But more than anything, Claude </span>\n",
       "<span style=\"color: #008000; text-decoration-color: #008000\">Code has shown me the power of extremely fast loops with agents. It feels a bit faster than Cursor\\'s agent, but </span>\n",
       "<span style=\"color: #008000; text-decoration-color: #008000\">this could also be the UX (it\\'s really well designed). Claude Code has access to a bunch of tools, including web </span>\n",
       "<span style=\"color: #008000; text-decoration-color: #008000\">search, and is able to spin up subtasks to do even more work in parallel. In practice, I\\'ve found it to be </span>\n",
       "<span style=\"color: #008000; text-decoration-color: #008000\">extremely good when you can control the entire \"loop\". Write some code, check if it compiles, if not fix it. Then </span>\n",
       "<span style=\"color: #008000; text-decoration-color: #008000\">try the tests. If they fail, fix it. Rinse and repeat for linting or other steps. This is where Software 1.0 best </span>\n",
       "<span style=\"color: #008000; text-decoration-color: #008000\">practices meet Software 2.0 (AI-era). Having deterministic, fast ways to verify correctness in your apps is key for</span>\n",
       "<span style=\"color: #008000; text-decoration-color: #008000\">agents. You want tests.'</span>\n",
       "    <span style=\"font-weight: bold\">)</span>\n",
       "<span style=\"font-weight: bold\">]</span>\n",
       "</pre>\n"
      ],
      "text/plain": [
       "\u001b[1m[\u001b[0m\n",
       "    \u001b[1;35mDocument\u001b[0m\u001b[1m(\u001b[0m\n",
       "        \u001b[33mmetadata\u001b[0m=\u001b[1m{\u001b[0m\n",
       "            \u001b[32m'title'\u001b[0m: \u001b[32m'AI Agents | Lee Robinson'\u001b[0m,\n",
       "            \u001b[32m'source'\u001b[0m: \u001b[32m'https://leerob.com/agents'\u001b[0m,\n",
       "            \u001b[32m'language'\u001b[0m: \u001b[32m'en'\u001b[0m,\n",
       "            \u001b[32m'description'\u001b[0m: \u001b[32m'I teach developers how to build the future.'\u001b[0m\n",
       "        \u001b[1m}\u001b[0m,\n",
       "        \u001b[33mpage_content\u001b[0m=\u001b[32m'Let\\'s talk through each tool. Cursor \u001b[0m\u001b[32m(\u001b[0m\u001b[32mPrimary IDE\u001b[0m\u001b[32m)\u001b[0m\u001b[32m\\nI\\'ve been using Cursor as my primary \u001b[0m\n",
       "\u001b[32mIDE for about 4 months. Before that, I spent 6 months¹ flipping between Zed and Neovim \u001b[0m\u001b[32m(\u001b[0m\u001b[32mafter using VS Code for a \u001b[0m\n",
       "\u001b[32mlong time\u001b[0m\u001b[32m)\u001b[0m\u001b[32m. Cursor is really good. For me, Cursor brings the familiarity of VS Code with the best AI interface for \u001b[0m\n",
       "\u001b[32mgeneral programming \u001b[0m\u001b[32m(\u001b[0m\u001b[32mreading files, quick edits, tab completion\u001b[0m\u001b[32m)\u001b[0m\u001b[32m. Sounds silly but the built-in git diff of VS Code\u001b[0m\n",
       "\u001b[32mis incredible and I prefer it over many other tools. I\\'ve only started to briefly experiment with background \u001b[0m\n",
       "\u001b[32magents, because at about the same time I started trying out Claude Code. Cursor seems to keep getting better on \u001b[0m\n",
       "\u001b[32mevery release, so I\\'m going to stick with it. Claude Code \u001b[0m\u001b[32m(\u001b[0m\u001b[32mAgentic Loops\u001b[0m\u001b[32m)\u001b[0m\u001b[32m\\nClaude Code is the first CLI agent \u001b[0m\n",
       "\u001b[32mI\\'ve been extensively testing. There are others in the space \u001b[0m\u001b[32m(\u001b[0m\u001b[32mincluding OSS versions\u001b[0m\u001b[32m)\u001b[0m\u001b[32m which likely have similar \u001b[0m\n",
       "\u001b[32mproperties, so it\\'s too soon for me to say one is dramatically better than others. But more than anything, Claude \u001b[0m\n",
       "\u001b[32mCode has shown me the power of extremely fast loops with agents. It feels a bit faster than Cursor\\'s agent, but \u001b[0m\n",
       "\u001b[32mthis could also be the UX \u001b[0m\u001b[32m(\u001b[0m\u001b[32mit\\'s really well designed\u001b[0m\u001b[32m)\u001b[0m\u001b[32m. Claude Code has access to a bunch of tools, including web \u001b[0m\n",
       "\u001b[32msearch, and is able to spin up subtasks to do even more work in parallel. In practice, I\\'ve found it to be \u001b[0m\n",
       "\u001b[32mextremely good when you can control the entire \"loop\". Write some code, check if it compiles, if not fix it. Then \u001b[0m\n",
       "\u001b[32mtry the tests. If they fail, fix it. Rinse and repeat for linting or other steps. This is where Software 1.0 best \u001b[0m\n",
       "\u001b[32mpractices meet Software 2.0 \u001b[0m\u001b[32m(\u001b[0m\u001b[32mAI-era\u001b[0m\u001b[32m)\u001b[0m\u001b[32m. Having deterministic, fast ways to verify correctness in your apps is key for\u001b[0m\n",
       "\u001b[32magents. You want tests.'\u001b[0m\n",
       "    \u001b[1m)\u001b[0m\n",
       "\u001b[1m]\u001b[0m\n"
      ]
     },
     "metadata": {},
     "output_type": "display_data"
    }
   ],
   "source": [
    "from index_pipeline import vector_store\n",
    "from rich import print\n",
    "\n",
    "vector_retriever = vector_store.as_retriever(search_kwargs={\"k\": 1})\n",
    "\n",
    "print(vector_retriever.invoke(\"Cursor\"))"
   ]
  },
  {
   "cell_type": "code",
   "execution_count": 9,
   "metadata": {},
   "outputs": [
    {
     "data": {
      "text/html": [
       "<pre style=\"white-space:pre;overflow-x:auto;line-height:normal;font-family:Menlo,'DejaVu Sans Mono',consolas,'Courier New',monospace\"><span style=\"font-weight: bold\">[</span>\n",
       "    <span style=\"color: #800080; text-decoration-color: #800080; font-weight: bold\">Document</span><span style=\"font-weight: bold\">(</span>\n",
       "        <span style=\"color: #808000; text-decoration-color: #808000\">metadata</span>=<span style=\"font-weight: bold\">{</span>\n",
       "            <span style=\"color: #008000; text-decoration-color: #008000\">'title'</span>: <span style=\"color: #008000; text-decoration-color: #008000\">'AI Agents | Lee Robinson'</span>,\n",
       "            <span style=\"color: #008000; text-decoration-color: #008000\">'source'</span>: <span style=\"color: #008000; text-decoration-color: #008000\">'https://leerob.com/agents'</span>,\n",
       "            <span style=\"color: #008000; text-decoration-color: #008000\">'language'</span>: <span style=\"color: #008000; text-decoration-color: #008000\">'en'</span>,\n",
       "            <span style=\"color: #008000; text-decoration-color: #008000\">'description'</span>: <span style=\"color: #008000; text-decoration-color: #008000\">'I teach developers how to build the future.'</span>\n",
       "        <span style=\"font-weight: bold\">}</span>,\n",
       "        <span style=\"color: #808000; text-decoration-color: #808000\">page_content</span>=<span style=\"color: #008000; text-decoration-color: #008000\">'Let\\'s talk through each tool. Cursor (Primary IDE)\\nI\\'ve been using Cursor as my primary </span>\n",
       "<span style=\"color: #008000; text-decoration-color: #008000\">IDE for about 4 months. Before that, I spent 6 months¹ flipping between Zed and Neovim (after using VS Code for a </span>\n",
       "<span style=\"color: #008000; text-decoration-color: #008000\">long time). Cursor is really good. For me, Cursor brings the familiarity of VS Code with the best AI interface for </span>\n",
       "<span style=\"color: #008000; text-decoration-color: #008000\">general programming (reading files, quick edits, tab completion). Sounds silly but the built-in git diff of VS Code</span>\n",
       "<span style=\"color: #008000; text-decoration-color: #008000\">is incredible and I prefer it over many other tools. I\\'ve only started to briefly experiment with background </span>\n",
       "<span style=\"color: #008000; text-decoration-color: #008000\">agents, because at about the same time I started trying out Claude Code. Cursor seems to keep getting better on </span>\n",
       "<span style=\"color: #008000; text-decoration-color: #008000\">every release, so I\\'m going to stick with it. Claude Code (Agentic Loops)\\nClaude Code is the first CLI agent </span>\n",
       "<span style=\"color: #008000; text-decoration-color: #008000\">I\\'ve been extensively testing. There are others in the space (including OSS versions) which likely have similar </span>\n",
       "<span style=\"color: #008000; text-decoration-color: #008000\">properties, so it\\'s too soon for me to say one is dramatically better than others. But more than anything, Claude </span>\n",
       "<span style=\"color: #008000; text-decoration-color: #008000\">Code has shown me the power of extremely fast loops with agents. It feels a bit faster than Cursor\\'s agent, but </span>\n",
       "<span style=\"color: #008000; text-decoration-color: #008000\">this could also be the UX (it\\'s really well designed). Claude Code has access to a bunch of tools, including web </span>\n",
       "<span style=\"color: #008000; text-decoration-color: #008000\">search, and is able to spin up subtasks to do even more work in parallel. In practice, I\\'ve found it to be </span>\n",
       "<span style=\"color: #008000; text-decoration-color: #008000\">extremely good when you can control the entire \"loop\". Write some code, check if it compiles, if not fix it. Then </span>\n",
       "<span style=\"color: #008000; text-decoration-color: #008000\">try the tests. If they fail, fix it. Rinse and repeat for linting or other steps. This is where Software 1.0 best </span>\n",
       "<span style=\"color: #008000; text-decoration-color: #008000\">practices meet Software 2.0 (AI-era). Having deterministic, fast ways to verify correctness in your apps is key for</span>\n",
       "<span style=\"color: #008000; text-decoration-color: #008000\">agents. You want tests.'</span>\n",
       "    <span style=\"font-weight: bold\">)</span>\n",
       "<span style=\"font-weight: bold\">]</span>\n",
       "</pre>\n"
      ],
      "text/plain": [
       "\u001b[1m[\u001b[0m\n",
       "    \u001b[1;35mDocument\u001b[0m\u001b[1m(\u001b[0m\n",
       "        \u001b[33mmetadata\u001b[0m=\u001b[1m{\u001b[0m\n",
       "            \u001b[32m'title'\u001b[0m: \u001b[32m'AI Agents | Lee Robinson'\u001b[0m,\n",
       "            \u001b[32m'source'\u001b[0m: \u001b[32m'https://leerob.com/agents'\u001b[0m,\n",
       "            \u001b[32m'language'\u001b[0m: \u001b[32m'en'\u001b[0m,\n",
       "            \u001b[32m'description'\u001b[0m: \u001b[32m'I teach developers how to build the future.'\u001b[0m\n",
       "        \u001b[1m}\u001b[0m,\n",
       "        \u001b[33mpage_content\u001b[0m=\u001b[32m'Let\\'s talk through each tool. Cursor \u001b[0m\u001b[32m(\u001b[0m\u001b[32mPrimary IDE\u001b[0m\u001b[32m)\u001b[0m\u001b[32m\\nI\\'ve been using Cursor as my primary \u001b[0m\n",
       "\u001b[32mIDE for about 4 months. Before that, I spent 6 months¹ flipping between Zed and Neovim \u001b[0m\u001b[32m(\u001b[0m\u001b[32mafter using VS Code for a \u001b[0m\n",
       "\u001b[32mlong time\u001b[0m\u001b[32m)\u001b[0m\u001b[32m. Cursor is really good. For me, Cursor brings the familiarity of VS Code with the best AI interface for \u001b[0m\n",
       "\u001b[32mgeneral programming \u001b[0m\u001b[32m(\u001b[0m\u001b[32mreading files, quick edits, tab completion\u001b[0m\u001b[32m)\u001b[0m\u001b[32m. Sounds silly but the built-in git diff of VS Code\u001b[0m\n",
       "\u001b[32mis incredible and I prefer it over many other tools. I\\'ve only started to briefly experiment with background \u001b[0m\n",
       "\u001b[32magents, because at about the same time I started trying out Claude Code. Cursor seems to keep getting better on \u001b[0m\n",
       "\u001b[32mevery release, so I\\'m going to stick with it. Claude Code \u001b[0m\u001b[32m(\u001b[0m\u001b[32mAgentic Loops\u001b[0m\u001b[32m)\u001b[0m\u001b[32m\\nClaude Code is the first CLI agent \u001b[0m\n",
       "\u001b[32mI\\'ve been extensively testing. There are others in the space \u001b[0m\u001b[32m(\u001b[0m\u001b[32mincluding OSS versions\u001b[0m\u001b[32m)\u001b[0m\u001b[32m which likely have similar \u001b[0m\n",
       "\u001b[32mproperties, so it\\'s too soon for me to say one is dramatically better than others. But more than anything, Claude \u001b[0m\n",
       "\u001b[32mCode has shown me the power of extremely fast loops with agents. It feels a bit faster than Cursor\\'s agent, but \u001b[0m\n",
       "\u001b[32mthis could also be the UX \u001b[0m\u001b[32m(\u001b[0m\u001b[32mit\\'s really well designed\u001b[0m\u001b[32m)\u001b[0m\u001b[32m. Claude Code has access to a bunch of tools, including web \u001b[0m\n",
       "\u001b[32msearch, and is able to spin up subtasks to do even more work in parallel. In practice, I\\'ve found it to be \u001b[0m\n",
       "\u001b[32mextremely good when you can control the entire \"loop\". Write some code, check if it compiles, if not fix it. Then \u001b[0m\n",
       "\u001b[32mtry the tests. If they fail, fix it. Rinse and repeat for linting or other steps. This is where Software 1.0 best \u001b[0m\n",
       "\u001b[32mpractices meet Software 2.0 \u001b[0m\u001b[32m(\u001b[0m\u001b[32mAI-era\u001b[0m\u001b[32m)\u001b[0m\u001b[32m. Having deterministic, fast ways to verify correctness in your apps is key for\u001b[0m\n",
       "\u001b[32magents. You want tests.'\u001b[0m\n",
       "    \u001b[1m)\u001b[0m\n",
       "\u001b[1m]\u001b[0m\n"
      ]
     },
     "metadata": {},
     "output_type": "display_data"
    }
   ],
   "source": [
    "from index_pipeline import vector_store\n",
    "from rich import print\n",
    "\n",
    "vector_retriever = vector_store.as_retriever(search_type=\"mmr\", search_kwargs={\"k\": 1})\n",
    "\n",
    "print(vector_retriever.invoke(\"Cursor\"))"
   ]
  }
 ],
 "metadata": {
  "kernelspec": {
   "display_name": ".venv",
   "language": "python",
   "name": "python3"
  },
  "language_info": {
   "codemirror_mode": {
    "name": "ipython",
    "version": 3
   },
   "file_extension": ".py",
   "mimetype": "text/x-python",
   "name": "python",
   "nbconvert_exporter": "python",
   "pygments_lexer": "ipython3",
   "version": "3.13.4"
  }
 },
 "nbformat": 4,
 "nbformat_minor": 2
}
