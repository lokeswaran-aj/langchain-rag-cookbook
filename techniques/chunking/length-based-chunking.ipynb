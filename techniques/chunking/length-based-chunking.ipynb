{
 "cells": [
  {
   "cell_type": "code",
   "execution_count": 48,
   "metadata": {},
   "outputs": [
    {
     "name": "stdout",
     "output_type": "stream",
     "text": [
      "Note: you may need to restart the kernel to use updated packages.\n"
     ]
    }
   ],
   "source": [
    "%pip install -qU langchain-text-splitters rich"
   ]
  },
  {
   "cell_type": "code",
   "execution_count": 52,
   "metadata": {},
   "outputs": [
    {
     "data": {
      "text/html": [
       "<pre style=\"white-space:pre;overflow-x:auto;line-height:normal;font-family:Menlo,'DejaVu Sans Mono',consolas,'Courier New',monospace\">Large language models <span style=\"font-weight: bold\">(</span>LLMs<span style=\"font-weight: bold\">)</span> are a category of foundation models trained on immense amounts of data making them \n",
       "capable of understanding and generating natural language and other types of content to perform a wide range of \n",
       "tasks.\n",
       "LLMs have become a household name thanks to the role they have played in bringing generative AI to the forefront of\n",
       "the public interest, as well as the point on which organizations are focusing to adopt artificial intelligence \n",
       "across numerous business functions and use cases.\n",
       "Outside of the enterprise context, it may seem like LLMs have arrived out of the blue along with new developments \n",
       "in generative AI.\n",
       "However, many companies, including IBM, have spent years implementing LLMs at different levels to enhance their \n",
       "natural language understanding <span style=\"font-weight: bold\">(</span>NLU<span style=\"font-weight: bold\">)</span> and natural language processing <span style=\"font-weight: bold\">(</span>NLP<span style=\"font-weight: bold\">)</span> capabilities.\n",
       "This has occurred alongside advances in machine learning, machine learning models, algorithms, neural networks and \n",
       "the transformer models that provide the architecture for these AI systems.\n",
       "LLMs are a class of foundation models, which are trained on enormous amounts of data to provide the foundational \n",
       "capabilities needed to drive multiple use cases and applications, as well as resolve a multitude of tasks.\n",
       "This is in stark contrast to the idea of building and training domain specific models for each of these use cases \n",
       "individually, which is prohibitive under many criteria <span style=\"font-weight: bold\">(</span>most importantly cost and infrastructure<span style=\"font-weight: bold\">)</span>, stifles \n",
       "synergies and can even lead to inferior performance.\n",
       "LLMs represent a significant breakthrough in NLP and artificial intelligence, and are easily accessible to the \n",
       "public through interfaces like Open AI’s Chat GPT-<span style=\"color: #008080; text-decoration-color: #008080; font-weight: bold\">3</span> and GPT-<span style=\"color: #008080; text-decoration-color: #008080; font-weight: bold\">4</span>, which have garnered the support of Microsoft.\n",
       "Other examples include Meta’s Llama models and Google’s bidirectional encoder representations from transformers \n",
       "<span style=\"font-weight: bold\">(</span>BERT/RoBERTa<span style=\"font-weight: bold\">)</span> and PaLM models.\n",
       "IBM has also recently launched its Granite model series on watsonx.ai, which has become the generative AI backbone \n",
       "for other IBM products like watsonx Assistant and watsonx Orchestrate.In a nutshell, LLMs are designed to \n",
       "understand and generate text like a human, in addition to other forms of content, based on the vast amount of data \n",
       "used to train them.\n",
       "They have the ability to infer from context, generate coherent and contextually relevant responses, translate to \n",
       "languages other than English, summarize text, answer questions <span style=\"font-weight: bold\">(</span>general conversation and FAQs<span style=\"font-weight: bold\">)</span> and even assist in \n",
       "creative writing or code generation tasks.\n",
       "They are able to do this thanks to billions of parameters that enable them to capture intricate patterns in \n",
       "language and perform a wide array of language-related tasks.\n",
       "LLMs are revolutionizing applications in various fields, from chatbots and virtual assistants to content \n",
       "generation, research assistance and language translation.\n",
       "</pre>\n"
      ],
      "text/plain": [
       "Large language models \u001b[1m(\u001b[0mLLMs\u001b[1m)\u001b[0m are a category of foundation models trained on immense amounts of data making them \n",
       "capable of understanding and generating natural language and other types of content to perform a wide range of \n",
       "tasks.\n",
       "LLMs have become a household name thanks to the role they have played in bringing generative AI to the forefront of\n",
       "the public interest, as well as the point on which organizations are focusing to adopt artificial intelligence \n",
       "across numerous business functions and use cases.\n",
       "Outside of the enterprise context, it may seem like LLMs have arrived out of the blue along with new developments \n",
       "in generative AI.\n",
       "However, many companies, including IBM, have spent years implementing LLMs at different levels to enhance their \n",
       "natural language understanding \u001b[1m(\u001b[0mNLU\u001b[1m)\u001b[0m and natural language processing \u001b[1m(\u001b[0mNLP\u001b[1m)\u001b[0m capabilities.\n",
       "This has occurred alongside advances in machine learning, machine learning models, algorithms, neural networks and \n",
       "the transformer models that provide the architecture for these AI systems.\n",
       "LLMs are a class of foundation models, which are trained on enormous amounts of data to provide the foundational \n",
       "capabilities needed to drive multiple use cases and applications, as well as resolve a multitude of tasks.\n",
       "This is in stark contrast to the idea of building and training domain specific models for each of these use cases \n",
       "individually, which is prohibitive under many criteria \u001b[1m(\u001b[0mmost importantly cost and infrastructure\u001b[1m)\u001b[0m, stifles \n",
       "synergies and can even lead to inferior performance.\n",
       "LLMs represent a significant breakthrough in NLP and artificial intelligence, and are easily accessible to the \n",
       "public through interfaces like Open AI’s Chat GPT-\u001b[1;36m3\u001b[0m and GPT-\u001b[1;36m4\u001b[0m, which have garnered the support of Microsoft.\n",
       "Other examples include Meta’s Llama models and Google’s bidirectional encoder representations from transformers \n",
       "\u001b[1m(\u001b[0mBERT/RoBERTa\u001b[1m)\u001b[0m and PaLM models.\n",
       "IBM has also recently launched its Granite model series on watsonx.ai, which has become the generative AI backbone \n",
       "for other IBM products like watsonx Assistant and watsonx Orchestrate.In a nutshell, LLMs are designed to \n",
       "understand and generate text like a human, in addition to other forms of content, based on the vast amount of data \n",
       "used to train them.\n",
       "They have the ability to infer from context, generate coherent and contextually relevant responses, translate to \n",
       "languages other than English, summarize text, answer questions \u001b[1m(\u001b[0mgeneral conversation and FAQs\u001b[1m)\u001b[0m and even assist in \n",
       "creative writing or code generation tasks.\n",
       "They are able to do this thanks to billions of parameters that enable them to capture intricate patterns in \n",
       "language and perform a wide array of language-related tasks.\n",
       "LLMs are revolutionizing applications in various fields, from chatbots and virtual assistants to content \n",
       "generation, research assistance and language translation.\n"
      ]
     },
     "metadata": {},
     "output_type": "display_data"
    }
   ],
   "source": [
    "with open(\"document.txt\") as f:\n",
    "    document = f.read()\n",
    "\n",
    "print(document)"
   ]
  },
  {
   "cell_type": "code",
   "execution_count": 53,
   "metadata": {},
   "outputs": [
    {
     "data": {
      "text/html": [
       "<pre style=\"white-space:pre;overflow-x:auto;line-height:normal;font-family:Menlo,'DejaVu Sans Mono',consolas,'Courier New',monospace\">Total number of chunks: <span style=\"color: #008080; text-decoration-color: #008080; font-weight: bold\">32</span>\n",
       "</pre>\n"
      ],
      "text/plain": [
       "Total number of chunks: \u001b[1;36m32\u001b[0m\n"
      ]
     },
     "metadata": {},
     "output_type": "display_data"
    },
    {
     "data": {
      "text/html": [
       "<pre style=\"white-space:pre;overflow-x:auto;line-height:normal;font-family:Menlo,'DejaVu Sans Mono',consolas,'Courier New',monospace\">Chunk <span style=\"color: #008080; text-decoration-color: #008080; font-weight: bold\">1</span>:\n",
       "</pre>\n"
      ],
      "text/plain": [
       "Chunk \u001b[1;36m1\u001b[0m:\n"
      ]
     },
     "metadata": {},
     "output_type": "display_data"
    },
    {
     "data": {
      "text/html": [
       "<pre style=\"white-space:pre;overflow-x:auto;line-height:normal;font-family:Menlo,'DejaVu Sans Mono',consolas,'Courier New',monospace\">Length: <span style=\"color: #008080; text-decoration-color: #008080; font-weight: bold\">99</span> characters\n",
       "</pre>\n"
      ],
      "text/plain": [
       "Length: \u001b[1;36m99\u001b[0m characters\n"
      ]
     },
     "metadata": {},
     "output_type": "display_data"
    },
    {
     "data": {
      "text/html": [
       "<pre style=\"white-space:pre;overflow-x:auto;line-height:normal;font-family:Menlo,'DejaVu Sans Mono',consolas,'Courier New',monospace\">Content: Large language models <span style=\"font-weight: bold\">(</span>LLMs<span style=\"font-weight: bold\">)</span> are a category of foundation models trained on immense amounts of data\n",
       "</pre>\n"
      ],
      "text/plain": [
       "Content: Large language models \u001b[1m(\u001b[0mLLMs\u001b[1m)\u001b[0m are a category of foundation models trained on immense amounts of data\n"
      ]
     },
     "metadata": {},
     "output_type": "display_data"
    },
    {
     "data": {
      "text/html": [
       "<pre style=\"white-space:pre;overflow-x:auto;line-height:normal;font-family:Menlo,'DejaVu Sans Mono',consolas,'Courier New',monospace\">------------------------------\n",
       "</pre>\n"
      ],
      "text/plain": [
       "------------------------------\n"
      ]
     },
     "metadata": {},
     "output_type": "display_data"
    },
    {
     "data": {
      "text/html": [
       "<pre style=\"white-space:pre;overflow-x:auto;line-height:normal;font-family:Menlo,'DejaVu Sans Mono',consolas,'Courier New',monospace\">Chunk <span style=\"color: #008080; text-decoration-color: #008080; font-weight: bold\">2</span>:\n",
       "</pre>\n"
      ],
      "text/plain": [
       "Chunk \u001b[1;36m2\u001b[0m:\n"
      ]
     },
     "metadata": {},
     "output_type": "display_data"
    },
    {
     "data": {
      "text/html": [
       "<pre style=\"white-space:pre;overflow-x:auto;line-height:normal;font-family:Menlo,'DejaVu Sans Mono',consolas,'Courier New',monospace\">Length: <span style=\"color: #008080; text-decoration-color: #008080; font-weight: bold\">100</span> characters\n",
       "</pre>\n"
      ],
      "text/plain": [
       "Length: \u001b[1;36m100\u001b[0m characters\n"
      ]
     },
     "metadata": {},
     "output_type": "display_data"
    },
    {
     "data": {
      "text/html": [
       "<pre style=\"white-space:pre;overflow-x:auto;line-height:normal;font-family:Menlo,'DejaVu Sans Mono',consolas,'Courier New',monospace\">Content: s of data making them capable of understanding and generating natural language and other types of co\n",
       "</pre>\n"
      ],
      "text/plain": [
       "Content: s of data making them capable of understanding and generating natural language and other types of co\n"
      ]
     },
     "metadata": {},
     "output_type": "display_data"
    },
    {
     "data": {
      "text/html": [
       "<pre style=\"white-space:pre;overflow-x:auto;line-height:normal;font-family:Menlo,'DejaVu Sans Mono',consolas,'Courier New',monospace\">------------------------------\n",
       "</pre>\n"
      ],
      "text/plain": [
       "------------------------------\n"
      ]
     },
     "metadata": {},
     "output_type": "display_data"
    },
    {
     "data": {
      "text/html": [
       "<pre style=\"white-space:pre;overflow-x:auto;line-height:normal;font-family:Menlo,'DejaVu Sans Mono',consolas,'Courier New',monospace\">Chunk <span style=\"color: #008080; text-decoration-color: #008080; font-weight: bold\">3</span>:\n",
       "</pre>\n"
      ],
      "text/plain": [
       "Chunk \u001b[1;36m3\u001b[0m:\n"
      ]
     },
     "metadata": {},
     "output_type": "display_data"
    },
    {
     "data": {
      "text/html": [
       "<pre style=\"white-space:pre;overflow-x:auto;line-height:normal;font-family:Menlo,'DejaVu Sans Mono',consolas,'Courier New',monospace\">Length: <span style=\"color: #008080; text-decoration-color: #008080; font-weight: bold\">100</span> characters\n",
       "</pre>\n"
      ],
      "text/plain": [
       "Length: \u001b[1;36m100\u001b[0m characters\n"
      ]
     },
     "metadata": {},
     "output_type": "display_data"
    },
    {
     "data": {
      "text/html": [
       "<pre style=\"white-space:pre;overflow-x:auto;line-height:normal;font-family:Menlo,'DejaVu Sans Mono',consolas,'Courier New',monospace\">Content: ypes of content to perform a wide range of tasks.\n",
       "LLMs have become a household name thanks to the ro\n",
       "</pre>\n"
      ],
      "text/plain": [
       "Content: ypes of content to perform a wide range of tasks.\n",
       "LLMs have become a household name thanks to the ro\n"
      ]
     },
     "metadata": {},
     "output_type": "display_data"
    },
    {
     "data": {
      "text/html": [
       "<pre style=\"white-space:pre;overflow-x:auto;line-height:normal;font-family:Menlo,'DejaVu Sans Mono',consolas,'Courier New',monospace\">------------------------------\n",
       "</pre>\n"
      ],
      "text/plain": [
       "------------------------------\n"
      ]
     },
     "metadata": {},
     "output_type": "display_data"
    },
    {
     "data": {
      "text/html": [
       "<pre style=\"white-space:pre;overflow-x:auto;line-height:normal;font-family:Menlo,'DejaVu Sans Mono',consolas,'Courier New',monospace\">Chunk <span style=\"color: #008080; text-decoration-color: #008080; font-weight: bold\">4</span>:\n",
       "</pre>\n"
      ],
      "text/plain": [
       "Chunk \u001b[1;36m4\u001b[0m:\n"
      ]
     },
     "metadata": {},
     "output_type": "display_data"
    },
    {
     "data": {
      "text/html": [
       "<pre style=\"white-space:pre;overflow-x:auto;line-height:normal;font-family:Menlo,'DejaVu Sans Mono',consolas,'Courier New',monospace\">Length: <span style=\"color: #008080; text-decoration-color: #008080; font-weight: bold\">98</span> characters\n",
       "</pre>\n"
      ],
      "text/plain": [
       "Length: \u001b[1;36m98\u001b[0m characters\n"
      ]
     },
     "metadata": {},
     "output_type": "display_data"
    },
    {
     "data": {
      "text/html": [
       "<pre style=\"white-space:pre;overflow-x:auto;line-height:normal;font-family:Menlo,'DejaVu Sans Mono',consolas,'Courier New',monospace\">Content: to the role they have played in bringing generative AI to the forefront of the public interest, as\n",
       "</pre>\n"
      ],
      "text/plain": [
       "Content: to the role they have played in bringing generative AI to the forefront of the public interest, as\n"
      ]
     },
     "metadata": {},
     "output_type": "display_data"
    },
    {
     "data": {
      "text/html": [
       "<pre style=\"white-space:pre;overflow-x:auto;line-height:normal;font-family:Menlo,'DejaVu Sans Mono',consolas,'Courier New',monospace\">------------------------------\n",
       "</pre>\n"
      ],
      "text/plain": [
       "------------------------------\n"
      ]
     },
     "metadata": {},
     "output_type": "display_data"
    },
    {
     "data": {
      "text/html": [
       "<pre style=\"white-space:pre;overflow-x:auto;line-height:normal;font-family:Menlo,'DejaVu Sans Mono',consolas,'Courier New',monospace\">Chunk <span style=\"color: #008080; text-decoration-color: #008080; font-weight: bold\">5</span>:\n",
       "</pre>\n"
      ],
      "text/plain": [
       "Chunk \u001b[1;36m5\u001b[0m:\n"
      ]
     },
     "metadata": {},
     "output_type": "display_data"
    },
    {
     "data": {
      "text/html": [
       "<pre style=\"white-space:pre;overflow-x:auto;line-height:normal;font-family:Menlo,'DejaVu Sans Mono',consolas,'Courier New',monospace\">Length: <span style=\"color: #008080; text-decoration-color: #008080; font-weight: bold\">100</span> characters\n",
       "</pre>\n"
      ],
      "text/plain": [
       "Length: \u001b[1;36m100\u001b[0m characters\n"
      ]
     },
     "metadata": {},
     "output_type": "display_data"
    },
    {
     "data": {
      "text/html": [
       "<pre style=\"white-space:pre;overflow-x:auto;line-height:normal;font-family:Menlo,'DejaVu Sans Mono',consolas,'Courier New',monospace\">Content: erest, as well as the point on which organizations are focusing to adopt artificial intelligence acr\n",
       "</pre>\n"
      ],
      "text/plain": [
       "Content: erest, as well as the point on which organizations are focusing to adopt artificial intelligence acr\n"
      ]
     },
     "metadata": {},
     "output_type": "display_data"
    },
    {
     "data": {
      "text/html": [
       "<pre style=\"white-space:pre;overflow-x:auto;line-height:normal;font-family:Menlo,'DejaVu Sans Mono',consolas,'Courier New',monospace\">------------------------------\n",
       "</pre>\n"
      ],
      "text/plain": [
       "------------------------------\n"
      ]
     },
     "metadata": {},
     "output_type": "display_data"
    },
    {
     "data": {
      "text/html": [
       "<pre style=\"white-space:pre;overflow-x:auto;line-height:normal;font-family:Menlo,'DejaVu Sans Mono',consolas,'Courier New',monospace\">Chunk <span style=\"color: #008080; text-decoration-color: #008080; font-weight: bold\">6</span>:\n",
       "</pre>\n"
      ],
      "text/plain": [
       "Chunk \u001b[1;36m6\u001b[0m:\n"
      ]
     },
     "metadata": {},
     "output_type": "display_data"
    },
    {
     "data": {
      "text/html": [
       "<pre style=\"white-space:pre;overflow-x:auto;line-height:normal;font-family:Menlo,'DejaVu Sans Mono',consolas,'Courier New',monospace\">Length: <span style=\"color: #008080; text-decoration-color: #008080; font-weight: bold\">100</span> characters\n",
       "</pre>\n"
      ],
      "text/plain": [
       "Length: \u001b[1;36m100\u001b[0m characters\n"
      ]
     },
     "metadata": {},
     "output_type": "display_data"
    },
    {
     "data": {
      "text/html": [
       "<pre style=\"white-space:pre;overflow-x:auto;line-height:normal;font-family:Menlo,'DejaVu Sans Mono',consolas,'Courier New',monospace\">Content: igence across numerous business functions and use cases.\n",
       "Outside of the enterprise context, it may s\n",
       "</pre>\n"
      ],
      "text/plain": [
       "Content: igence across numerous business functions and use cases.\n",
       "Outside of the enterprise context, it may s\n"
      ]
     },
     "metadata": {},
     "output_type": "display_data"
    },
    {
     "data": {
      "text/html": [
       "<pre style=\"white-space:pre;overflow-x:auto;line-height:normal;font-family:Menlo,'DejaVu Sans Mono',consolas,'Courier New',monospace\">------------------------------\n",
       "</pre>\n"
      ],
      "text/plain": [
       "------------------------------\n"
      ]
     },
     "metadata": {},
     "output_type": "display_data"
    },
    {
     "data": {
      "text/html": [
       "<pre style=\"white-space:pre;overflow-x:auto;line-height:normal;font-family:Menlo,'DejaVu Sans Mono',consolas,'Courier New',monospace\">Chunk <span style=\"color: #008080; text-decoration-color: #008080; font-weight: bold\">7</span>:\n",
       "</pre>\n"
      ],
      "text/plain": [
       "Chunk \u001b[1;36m7\u001b[0m:\n"
      ]
     },
     "metadata": {},
     "output_type": "display_data"
    },
    {
     "data": {
      "text/html": [
       "<pre style=\"white-space:pre;overflow-x:auto;line-height:normal;font-family:Menlo,'DejaVu Sans Mono',consolas,'Courier New',monospace\">Length: <span style=\"color: #008080; text-decoration-color: #008080; font-weight: bold\">100</span> characters\n",
       "</pre>\n"
      ],
      "text/plain": [
       "Length: \u001b[1;36m100\u001b[0m characters\n"
      ]
     },
     "metadata": {},
     "output_type": "display_data"
    },
    {
     "data": {
      "text/html": [
       "<pre style=\"white-space:pre;overflow-x:auto;line-height:normal;font-family:Menlo,'DejaVu Sans Mono',consolas,'Courier New',monospace\">Content: , it may seem like LLMs have arrived out of the blue along with new developments in generative AI.\n",
       "H\n",
       "</pre>\n"
      ],
      "text/plain": [
       "Content: , it may seem like LLMs have arrived out of the blue along with new developments in generative AI.\n",
       "H\n"
      ]
     },
     "metadata": {},
     "output_type": "display_data"
    },
    {
     "data": {
      "text/html": [
       "<pre style=\"white-space:pre;overflow-x:auto;line-height:normal;font-family:Menlo,'DejaVu Sans Mono',consolas,'Courier New',monospace\">------------------------------\n",
       "</pre>\n"
      ],
      "text/plain": [
       "------------------------------\n"
      ]
     },
     "metadata": {},
     "output_type": "display_data"
    },
    {
     "data": {
      "text/html": [
       "<pre style=\"white-space:pre;overflow-x:auto;line-height:normal;font-family:Menlo,'DejaVu Sans Mono',consolas,'Courier New',monospace\">Chunk <span style=\"color: #008080; text-decoration-color: #008080; font-weight: bold\">8</span>:\n",
       "</pre>\n"
      ],
      "text/plain": [
       "Chunk \u001b[1;36m8\u001b[0m:\n"
      ]
     },
     "metadata": {},
     "output_type": "display_data"
    },
    {
     "data": {
      "text/html": [
       "<pre style=\"white-space:pre;overflow-x:auto;line-height:normal;font-family:Menlo,'DejaVu Sans Mono',consolas,'Courier New',monospace\">Length: <span style=\"color: #008080; text-decoration-color: #008080; font-weight: bold\">100</span> characters\n",
       "</pre>\n"
      ],
      "text/plain": [
       "Length: \u001b[1;36m100\u001b[0m characters\n"
      ]
     },
     "metadata": {},
     "output_type": "display_data"
    },
    {
     "data": {
      "text/html": [
       "<pre style=\"white-space:pre;overflow-x:auto;line-height:normal;font-family:Menlo,'DejaVu Sans Mono',consolas,'Courier New',monospace\">Content: tive AI.\n",
       "However, many companies, including IBM, have spent years implementing LLMs at different lev\n",
       "</pre>\n"
      ],
      "text/plain": [
       "Content: tive AI.\n",
       "However, many companies, including IBM, have spent years implementing LLMs at different lev\n"
      ]
     },
     "metadata": {},
     "output_type": "display_data"
    },
    {
     "data": {
      "text/html": [
       "<pre style=\"white-space:pre;overflow-x:auto;line-height:normal;font-family:Menlo,'DejaVu Sans Mono',consolas,'Courier New',monospace\">------------------------------\n",
       "</pre>\n"
      ],
      "text/plain": [
       "------------------------------\n"
      ]
     },
     "metadata": {},
     "output_type": "display_data"
    },
    {
     "data": {
      "text/html": [
       "<pre style=\"white-space:pre;overflow-x:auto;line-height:normal;font-family:Menlo,'DejaVu Sans Mono',consolas,'Courier New',monospace\">Chunk <span style=\"color: #008080; text-decoration-color: #008080; font-weight: bold\">9</span>:\n",
       "</pre>\n"
      ],
      "text/plain": [
       "Chunk \u001b[1;36m9\u001b[0m:\n"
      ]
     },
     "metadata": {},
     "output_type": "display_data"
    },
    {
     "data": {
      "text/html": [
       "<pre style=\"white-space:pre;overflow-x:auto;line-height:normal;font-family:Menlo,'DejaVu Sans Mono',consolas,'Courier New',monospace\">Length: <span style=\"color: #008080; text-decoration-color: #008080; font-weight: bold\">99</span> characters\n",
       "</pre>\n"
      ],
      "text/plain": [
       "Length: \u001b[1;36m99\u001b[0m characters\n"
      ]
     },
     "metadata": {},
     "output_type": "display_data"
    },
    {
     "data": {
      "text/html": [
       "<pre style=\"white-space:pre;overflow-x:auto;line-height:normal;font-family:Menlo,'DejaVu Sans Mono',consolas,'Courier New',monospace\">Content: ferent levels to enhance their natural language understanding <span style=\"font-weight: bold\">(</span>NLU<span style=\"font-weight: bold\">)</span> and natural language processing\n",
       "</pre>\n"
      ],
      "text/plain": [
       "Content: ferent levels to enhance their natural language understanding \u001b[1m(\u001b[0mNLU\u001b[1m)\u001b[0m and natural language processing\n"
      ]
     },
     "metadata": {},
     "output_type": "display_data"
    },
    {
     "data": {
      "text/html": [
       "<pre style=\"white-space:pre;overflow-x:auto;line-height:normal;font-family:Menlo,'DejaVu Sans Mono',consolas,'Courier New',monospace\">------------------------------\n",
       "</pre>\n"
      ],
      "text/plain": [
       "------------------------------\n"
      ]
     },
     "metadata": {},
     "output_type": "display_data"
    },
    {
     "data": {
      "text/html": [
       "<pre style=\"white-space:pre;overflow-x:auto;line-height:normal;font-family:Menlo,'DejaVu Sans Mono',consolas,'Courier New',monospace\">Chunk <span style=\"color: #008080; text-decoration-color: #008080; font-weight: bold\">10</span>:\n",
       "</pre>\n"
      ],
      "text/plain": [
       "Chunk \u001b[1;36m10\u001b[0m:\n"
      ]
     },
     "metadata": {},
     "output_type": "display_data"
    },
    {
     "data": {
      "text/html": [
       "<pre style=\"white-space:pre;overflow-x:auto;line-height:normal;font-family:Menlo,'DejaVu Sans Mono',consolas,'Courier New',monospace\">Length: <span style=\"color: #008080; text-decoration-color: #008080; font-weight: bold\">100</span> characters\n",
       "</pre>\n"
      ],
      "text/plain": [
       "Length: \u001b[1;36m100\u001b[0m characters\n"
      ]
     },
     "metadata": {},
     "output_type": "display_data"
    },
    {
     "data": {
      "text/html": [
       "<pre style=\"white-space:pre;overflow-x:auto;line-height:normal;font-family:Menlo,'DejaVu Sans Mono',consolas,'Courier New',monospace\">Content: rocessing <span style=\"font-weight: bold\">(</span>NLP<span style=\"font-weight: bold\">)</span> capabilities.\n",
       "This has occurred alongside advances in machine learning, machine lear\n",
       "</pre>\n"
      ],
      "text/plain": [
       "Content: rocessing \u001b[1m(\u001b[0mNLP\u001b[1m)\u001b[0m capabilities.\n",
       "This has occurred alongside advances in machine learning, machine lear\n"
      ]
     },
     "metadata": {},
     "output_type": "display_data"
    },
    {
     "data": {
      "text/html": [
       "<pre style=\"white-space:pre;overflow-x:auto;line-height:normal;font-family:Menlo,'DejaVu Sans Mono',consolas,'Courier New',monospace\">------------------------------\n",
       "</pre>\n"
      ],
      "text/plain": [
       "------------------------------\n"
      ]
     },
     "metadata": {},
     "output_type": "display_data"
    },
    {
     "data": {
      "text/html": [
       "<pre style=\"white-space:pre;overflow-x:auto;line-height:normal;font-family:Menlo,'DejaVu Sans Mono',consolas,'Courier New',monospace\">Chunk <span style=\"color: #008080; text-decoration-color: #008080; font-weight: bold\">11</span>:\n",
       "</pre>\n"
      ],
      "text/plain": [
       "Chunk \u001b[1;36m11\u001b[0m:\n"
      ]
     },
     "metadata": {},
     "output_type": "display_data"
    },
    {
     "data": {
      "text/html": [
       "<pre style=\"white-space:pre;overflow-x:auto;line-height:normal;font-family:Menlo,'DejaVu Sans Mono',consolas,'Courier New',monospace\">Length: <span style=\"color: #008080; text-decoration-color: #008080; font-weight: bold\">100</span> characters\n",
       "</pre>\n"
      ],
      "text/plain": [
       "Length: \u001b[1;36m100\u001b[0m characters\n"
      ]
     },
     "metadata": {},
     "output_type": "display_data"
    },
    {
     "data": {
      "text/html": [
       "<pre style=\"white-space:pre;overflow-x:auto;line-height:normal;font-family:Menlo,'DejaVu Sans Mono',consolas,'Courier New',monospace\">Content: chine learning models, algorithms, neural networks and the transformer models that provide the archi\n",
       "</pre>\n"
      ],
      "text/plain": [
       "Content: chine learning models, algorithms, neural networks and the transformer models that provide the archi\n"
      ]
     },
     "metadata": {},
     "output_type": "display_data"
    },
    {
     "data": {
      "text/html": [
       "<pre style=\"white-space:pre;overflow-x:auto;line-height:normal;font-family:Menlo,'DejaVu Sans Mono',consolas,'Courier New',monospace\">------------------------------\n",
       "</pre>\n"
      ],
      "text/plain": [
       "------------------------------\n"
      ]
     },
     "metadata": {},
     "output_type": "display_data"
    },
    {
     "data": {
      "text/html": [
       "<pre style=\"white-space:pre;overflow-x:auto;line-height:normal;font-family:Menlo,'DejaVu Sans Mono',consolas,'Courier New',monospace\">Chunk <span style=\"color: #008080; text-decoration-color: #008080; font-weight: bold\">12</span>:\n",
       "</pre>\n"
      ],
      "text/plain": [
       "Chunk \u001b[1;36m12\u001b[0m:\n"
      ]
     },
     "metadata": {},
     "output_type": "display_data"
    },
    {
     "data": {
      "text/html": [
       "<pre style=\"white-space:pre;overflow-x:auto;line-height:normal;font-family:Menlo,'DejaVu Sans Mono',consolas,'Courier New',monospace\">Length: <span style=\"color: #008080; text-decoration-color: #008080; font-weight: bold\">98</span> characters\n",
       "</pre>\n"
      ],
      "text/plain": [
       "Length: \u001b[1;36m98\u001b[0m characters\n"
      ]
     },
     "metadata": {},
     "output_type": "display_data"
    },
    {
     "data": {
      "text/html": [
       "<pre style=\"white-space:pre;overflow-x:auto;line-height:normal;font-family:Menlo,'DejaVu Sans Mono',consolas,'Courier New',monospace\">Content: the architecture for these AI systems.\n",
       "LLMs are a class of foundation models, which are trained on\n",
       "</pre>\n"
      ],
      "text/plain": [
       "Content: the architecture for these AI systems.\n",
       "LLMs are a class of foundation models, which are trained on\n"
      ]
     },
     "metadata": {},
     "output_type": "display_data"
    },
    {
     "data": {
      "text/html": [
       "<pre style=\"white-space:pre;overflow-x:auto;line-height:normal;font-family:Menlo,'DejaVu Sans Mono',consolas,'Courier New',monospace\">------------------------------\n",
       "</pre>\n"
      ],
      "text/plain": [
       "------------------------------\n"
      ]
     },
     "metadata": {},
     "output_type": "display_data"
    },
    {
     "data": {
      "text/html": [
       "<pre style=\"white-space:pre;overflow-x:auto;line-height:normal;font-family:Menlo,'DejaVu Sans Mono',consolas,'Courier New',monospace\">Chunk <span style=\"color: #008080; text-decoration-color: #008080; font-weight: bold\">13</span>:\n",
       "</pre>\n"
      ],
      "text/plain": [
       "Chunk \u001b[1;36m13\u001b[0m:\n"
      ]
     },
     "metadata": {},
     "output_type": "display_data"
    },
    {
     "data": {
      "text/html": [
       "<pre style=\"white-space:pre;overflow-x:auto;line-height:normal;font-family:Menlo,'DejaVu Sans Mono',consolas,'Courier New',monospace\">Length: <span style=\"color: #008080; text-decoration-color: #008080; font-weight: bold\">100</span> characters\n",
       "</pre>\n"
      ],
      "text/plain": [
       "Length: \u001b[1;36m100\u001b[0m characters\n"
      ]
     },
     "metadata": {},
     "output_type": "display_data"
    },
    {
     "data": {
      "text/html": [
       "<pre style=\"white-space:pre;overflow-x:auto;line-height:normal;font-family:Menlo,'DejaVu Sans Mono',consolas,'Courier New',monospace\">Content: rained on enormous amounts of data to provide the foundational capabilities needed to drive multiple\n",
       "</pre>\n"
      ],
      "text/plain": [
       "Content: rained on enormous amounts of data to provide the foundational capabilities needed to drive multiple\n"
      ]
     },
     "metadata": {},
     "output_type": "display_data"
    },
    {
     "data": {
      "text/html": [
       "<pre style=\"white-space:pre;overflow-x:auto;line-height:normal;font-family:Menlo,'DejaVu Sans Mono',consolas,'Courier New',monospace\">------------------------------\n",
       "</pre>\n"
      ],
      "text/plain": [
       "------------------------------\n"
      ]
     },
     "metadata": {},
     "output_type": "display_data"
    },
    {
     "data": {
      "text/html": [
       "<pre style=\"white-space:pre;overflow-x:auto;line-height:normal;font-family:Menlo,'DejaVu Sans Mono',consolas,'Courier New',monospace\">Chunk <span style=\"color: #008080; text-decoration-color: #008080; font-weight: bold\">14</span>:\n",
       "</pre>\n"
      ],
      "text/plain": [
       "Chunk \u001b[1;36m14\u001b[0m:\n"
      ]
     },
     "metadata": {},
     "output_type": "display_data"
    },
    {
     "data": {
      "text/html": [
       "<pre style=\"white-space:pre;overflow-x:auto;line-height:normal;font-family:Menlo,'DejaVu Sans Mono',consolas,'Courier New',monospace\">Length: <span style=\"color: #008080; text-decoration-color: #008080; font-weight: bold\">100</span> characters\n",
       "</pre>\n"
      ],
      "text/plain": [
       "Length: \u001b[1;36m100\u001b[0m characters\n"
      ]
     },
     "metadata": {},
     "output_type": "display_data"
    },
    {
     "data": {
      "text/html": [
       "<pre style=\"white-space:pre;overflow-x:auto;line-height:normal;font-family:Menlo,'DejaVu Sans Mono',consolas,'Courier New',monospace\">Content: e multiple use cases and applications, as well as resolve a multitude of tasks.\n",
       "This is in stark con\n",
       "</pre>\n"
      ],
      "text/plain": [
       "Content: e multiple use cases and applications, as well as resolve a multitude of tasks.\n",
       "This is in stark con\n"
      ]
     },
     "metadata": {},
     "output_type": "display_data"
    },
    {
     "data": {
      "text/html": [
       "<pre style=\"white-space:pre;overflow-x:auto;line-height:normal;font-family:Menlo,'DejaVu Sans Mono',consolas,'Courier New',monospace\">------------------------------\n",
       "</pre>\n"
      ],
      "text/plain": [
       "------------------------------\n"
      ]
     },
     "metadata": {},
     "output_type": "display_data"
    },
    {
     "data": {
      "text/html": [
       "<pre style=\"white-space:pre;overflow-x:auto;line-height:normal;font-family:Menlo,'DejaVu Sans Mono',consolas,'Courier New',monospace\">Chunk <span style=\"color: #008080; text-decoration-color: #008080; font-weight: bold\">15</span>:\n",
       "</pre>\n"
      ],
      "text/plain": [
       "Chunk \u001b[1;36m15\u001b[0m:\n"
      ]
     },
     "metadata": {},
     "output_type": "display_data"
    },
    {
     "data": {
      "text/html": [
       "<pre style=\"white-space:pre;overflow-x:auto;line-height:normal;font-family:Menlo,'DejaVu Sans Mono',consolas,'Courier New',monospace\">Length: <span style=\"color: #008080; text-decoration-color: #008080; font-weight: bold\">99</span> characters\n",
       "</pre>\n"
      ],
      "text/plain": [
       "Length: \u001b[1;36m99\u001b[0m characters\n"
      ]
     },
     "metadata": {},
     "output_type": "display_data"
    },
    {
     "data": {
      "text/html": [
       "<pre style=\"white-space:pre;overflow-x:auto;line-height:normal;font-family:Menlo,'DejaVu Sans Mono',consolas,'Courier New',monospace\">Content: stark contrast to the idea of building and training domain specific models for each of these use ca\n",
       "</pre>\n"
      ],
      "text/plain": [
       "Content: stark contrast to the idea of building and training domain specific models for each of these use ca\n"
      ]
     },
     "metadata": {},
     "output_type": "display_data"
    },
    {
     "data": {
      "text/html": [
       "<pre style=\"white-space:pre;overflow-x:auto;line-height:normal;font-family:Menlo,'DejaVu Sans Mono',consolas,'Courier New',monospace\">------------------------------\n",
       "</pre>\n"
      ],
      "text/plain": [
       "------------------------------\n"
      ]
     },
     "metadata": {},
     "output_type": "display_data"
    },
    {
     "data": {
      "text/html": [
       "<pre style=\"white-space:pre;overflow-x:auto;line-height:normal;font-family:Menlo,'DejaVu Sans Mono',consolas,'Courier New',monospace\">Chunk <span style=\"color: #008080; text-decoration-color: #008080; font-weight: bold\">16</span>:\n",
       "</pre>\n"
      ],
      "text/plain": [
       "Chunk \u001b[1;36m16\u001b[0m:\n"
      ]
     },
     "metadata": {},
     "output_type": "display_data"
    },
    {
     "data": {
      "text/html": [
       "<pre style=\"white-space:pre;overflow-x:auto;line-height:normal;font-family:Menlo,'DejaVu Sans Mono',consolas,'Courier New',monospace\">Length: <span style=\"color: #008080; text-decoration-color: #008080; font-weight: bold\">100</span> characters\n",
       "</pre>\n"
      ],
      "text/plain": [
       "Length: \u001b[1;36m100\u001b[0m characters\n"
      ]
     },
     "metadata": {},
     "output_type": "display_data"
    },
    {
     "data": {
      "text/html": [
       "<pre style=\"white-space:pre;overflow-x:auto;line-height:normal;font-family:Menlo,'DejaVu Sans Mono',consolas,'Courier New',monospace\">Content: ese use cases individually, which is prohibitive under many criteria <span style=\"font-weight: bold\">(</span>most importantly cost and infr\n",
       "</pre>\n"
      ],
      "text/plain": [
       "Content: ese use cases individually, which is prohibitive under many criteria \u001b[1m(\u001b[0mmost importantly cost and infr\n"
      ]
     },
     "metadata": {},
     "output_type": "display_data"
    },
    {
     "data": {
      "text/html": [
       "<pre style=\"white-space:pre;overflow-x:auto;line-height:normal;font-family:Menlo,'DejaVu Sans Mono',consolas,'Courier New',monospace\">------------------------------\n",
       "</pre>\n"
      ],
      "text/plain": [
       "------------------------------\n"
      ]
     },
     "metadata": {},
     "output_type": "display_data"
    },
    {
     "data": {
      "text/html": [
       "<pre style=\"white-space:pre;overflow-x:auto;line-height:normal;font-family:Menlo,'DejaVu Sans Mono',consolas,'Courier New',monospace\">Chunk <span style=\"color: #008080; text-decoration-color: #008080; font-weight: bold\">17</span>:\n",
       "</pre>\n"
      ],
      "text/plain": [
       "Chunk \u001b[1;36m17\u001b[0m:\n"
      ]
     },
     "metadata": {},
     "output_type": "display_data"
    },
    {
     "data": {
      "text/html": [
       "<pre style=\"white-space:pre;overflow-x:auto;line-height:normal;font-family:Menlo,'DejaVu Sans Mono',consolas,'Courier New',monospace\">Length: <span style=\"color: #008080; text-decoration-color: #008080; font-weight: bold\">100</span> characters\n",
       "</pre>\n"
      ],
      "text/plain": [
       "Length: \u001b[1;36m100\u001b[0m characters\n"
      ]
     },
     "metadata": {},
     "output_type": "display_data"
    },
    {
     "data": {
      "text/html": [
       "<pre style=\"white-space:pre;overflow-x:auto;line-height:normal;font-family:Menlo,'DejaVu Sans Mono',consolas,'Courier New',monospace\">Content: t and infrastructure<span style=\"font-weight: bold\">)</span>, stifles synergies and can even lead to inferior performance.\n",
       "LLMs represent a\n",
       "</pre>\n"
      ],
      "text/plain": [
       "Content: t and infrastructure\u001b[1m)\u001b[0m, stifles synergies and can even lead to inferior performance.\n",
       "LLMs represent a\n"
      ]
     },
     "metadata": {},
     "output_type": "display_data"
    },
    {
     "data": {
      "text/html": [
       "<pre style=\"white-space:pre;overflow-x:auto;line-height:normal;font-family:Menlo,'DejaVu Sans Mono',consolas,'Courier New',monospace\">------------------------------\n",
       "</pre>\n"
      ],
      "text/plain": [
       "------------------------------\n"
      ]
     },
     "metadata": {},
     "output_type": "display_data"
    },
    {
     "data": {
      "text/html": [
       "<pre style=\"white-space:pre;overflow-x:auto;line-height:normal;font-family:Menlo,'DejaVu Sans Mono',consolas,'Courier New',monospace\">Chunk <span style=\"color: #008080; text-decoration-color: #008080; font-weight: bold\">18</span>:\n",
       "</pre>\n"
      ],
      "text/plain": [
       "Chunk \u001b[1;36m18\u001b[0m:\n"
      ]
     },
     "metadata": {},
     "output_type": "display_data"
    },
    {
     "data": {
      "text/html": [
       "<pre style=\"white-space:pre;overflow-x:auto;line-height:normal;font-family:Menlo,'DejaVu Sans Mono',consolas,'Courier New',monospace\">Length: <span style=\"color: #008080; text-decoration-color: #008080; font-weight: bold\">100</span> characters\n",
       "</pre>\n"
      ],
      "text/plain": [
       "Length: \u001b[1;36m100\u001b[0m characters\n"
      ]
     },
     "metadata": {},
     "output_type": "display_data"
    },
    {
     "data": {
      "text/html": [
       "<pre style=\"white-space:pre;overflow-x:auto;line-height:normal;font-family:Menlo,'DejaVu Sans Mono',consolas,'Courier New',monospace\">Content: epresent a significant breakthrough in NLP and artificial intelligence, and are easily accessible to\n",
       "</pre>\n"
      ],
      "text/plain": [
       "Content: epresent a significant breakthrough in NLP and artificial intelligence, and are easily accessible to\n"
      ]
     },
     "metadata": {},
     "output_type": "display_data"
    },
    {
     "data": {
      "text/html": [
       "<pre style=\"white-space:pre;overflow-x:auto;line-height:normal;font-family:Menlo,'DejaVu Sans Mono',consolas,'Courier New',monospace\">------------------------------\n",
       "</pre>\n"
      ],
      "text/plain": [
       "------------------------------\n"
      ]
     },
     "metadata": {},
     "output_type": "display_data"
    },
    {
     "data": {
      "text/html": [
       "<pre style=\"white-space:pre;overflow-x:auto;line-height:normal;font-family:Menlo,'DejaVu Sans Mono',consolas,'Courier New',monospace\">Chunk <span style=\"color: #008080; text-decoration-color: #008080; font-weight: bold\">19</span>:\n",
       "</pre>\n"
      ],
      "text/plain": [
       "Chunk \u001b[1;36m19\u001b[0m:\n"
      ]
     },
     "metadata": {},
     "output_type": "display_data"
    },
    {
     "data": {
      "text/html": [
       "<pre style=\"white-space:pre;overflow-x:auto;line-height:normal;font-family:Menlo,'DejaVu Sans Mono',consolas,'Courier New',monospace\">Length: <span style=\"color: #008080; text-decoration-color: #008080; font-weight: bold\">100</span> characters\n",
       "</pre>\n"
      ],
      "text/plain": [
       "Length: \u001b[1;36m100\u001b[0m characters\n"
      ]
     },
     "metadata": {},
     "output_type": "display_data"
    },
    {
     "data": {
      "text/html": [
       "<pre style=\"white-space:pre;overflow-x:auto;line-height:normal;font-family:Menlo,'DejaVu Sans Mono',consolas,'Courier New',monospace\">Content: essible to the public through interfaces like Open AI’s Chat GPT-<span style=\"color: #008080; text-decoration-color: #008080; font-weight: bold\">3</span> and GPT-<span style=\"color: #008080; text-decoration-color: #008080; font-weight: bold\">4</span>, which have garnered th\n",
       "</pre>\n"
      ],
      "text/plain": [
       "Content: essible to the public through interfaces like Open AI’s Chat GPT-\u001b[1;36m3\u001b[0m and GPT-\u001b[1;36m4\u001b[0m, which have garnered th\n"
      ]
     },
     "metadata": {},
     "output_type": "display_data"
    },
    {
     "data": {
      "text/html": [
       "<pre style=\"white-space:pre;overflow-x:auto;line-height:normal;font-family:Menlo,'DejaVu Sans Mono',consolas,'Courier New',monospace\">------------------------------\n",
       "</pre>\n"
      ],
      "text/plain": [
       "------------------------------\n"
      ]
     },
     "metadata": {},
     "output_type": "display_data"
    },
    {
     "data": {
      "text/html": [
       "<pre style=\"white-space:pre;overflow-x:auto;line-height:normal;font-family:Menlo,'DejaVu Sans Mono',consolas,'Courier New',monospace\">Chunk <span style=\"color: #008080; text-decoration-color: #008080; font-weight: bold\">20</span>:\n",
       "</pre>\n"
      ],
      "text/plain": [
       "Chunk \u001b[1;36m20\u001b[0m:\n"
      ]
     },
     "metadata": {},
     "output_type": "display_data"
    },
    {
     "data": {
      "text/html": [
       "<pre style=\"white-space:pre;overflow-x:auto;line-height:normal;font-family:Menlo,'DejaVu Sans Mono',consolas,'Courier New',monospace\">Length: <span style=\"color: #008080; text-decoration-color: #008080; font-weight: bold\">100</span> characters\n",
       "</pre>\n"
      ],
      "text/plain": [
       "Length: \u001b[1;36m100\u001b[0m characters\n"
      ]
     },
     "metadata": {},
     "output_type": "display_data"
    },
    {
     "data": {
      "text/html": [
       "<pre style=\"white-space:pre;overflow-x:auto;line-height:normal;font-family:Menlo,'DejaVu Sans Mono',consolas,'Courier New',monospace\">Content: arnered the support of Microsoft.\n",
       "Other examples include Meta’s Llama models and Google’s bidirectio\n",
       "</pre>\n"
      ],
      "text/plain": [
       "Content: arnered the support of Microsoft.\n",
       "Other examples include Meta’s Llama models and Google’s bidirectio\n"
      ]
     },
     "metadata": {},
     "output_type": "display_data"
    },
    {
     "data": {
      "text/html": [
       "<pre style=\"white-space:pre;overflow-x:auto;line-height:normal;font-family:Menlo,'DejaVu Sans Mono',consolas,'Courier New',monospace\">------------------------------\n",
       "</pre>\n"
      ],
      "text/plain": [
       "------------------------------\n"
      ]
     },
     "metadata": {},
     "output_type": "display_data"
    },
    {
     "data": {
      "text/html": [
       "<pre style=\"white-space:pre;overflow-x:auto;line-height:normal;font-family:Menlo,'DejaVu Sans Mono',consolas,'Courier New',monospace\">Chunk <span style=\"color: #008080; text-decoration-color: #008080; font-weight: bold\">21</span>:\n",
       "</pre>\n"
      ],
      "text/plain": [
       "Chunk \u001b[1;36m21\u001b[0m:\n"
      ]
     },
     "metadata": {},
     "output_type": "display_data"
    },
    {
     "data": {
      "text/html": [
       "<pre style=\"white-space:pre;overflow-x:auto;line-height:normal;font-family:Menlo,'DejaVu Sans Mono',consolas,'Courier New',monospace\">Length: <span style=\"color: #008080; text-decoration-color: #008080; font-weight: bold\">100</span> characters\n",
       "</pre>\n"
      ],
      "text/plain": [
       "Length: \u001b[1;36m100\u001b[0m characters\n"
      ]
     },
     "metadata": {},
     "output_type": "display_data"
    },
    {
     "data": {
      "text/html": [
       "<pre style=\"white-space:pre;overflow-x:auto;line-height:normal;font-family:Menlo,'DejaVu Sans Mono',consolas,'Courier New',monospace\">Content: bidirectional encoder representations from transformers <span style=\"font-weight: bold\">(</span>BERT/RoBERTa<span style=\"font-weight: bold\">)</span> and PaLM models.\n",
       "IBM has also\n",
       "</pre>\n"
      ],
      "text/plain": [
       "Content: bidirectional encoder representations from transformers \u001b[1m(\u001b[0mBERT/RoBERTa\u001b[1m)\u001b[0m and PaLM models.\n",
       "IBM has also\n"
      ]
     },
     "metadata": {},
     "output_type": "display_data"
    },
    {
     "data": {
      "text/html": [
       "<pre style=\"white-space:pre;overflow-x:auto;line-height:normal;font-family:Menlo,'DejaVu Sans Mono',consolas,'Courier New',monospace\">------------------------------\n",
       "</pre>\n"
      ],
      "text/plain": [
       "------------------------------\n"
      ]
     },
     "metadata": {},
     "output_type": "display_data"
    },
    {
     "data": {
      "text/html": [
       "<pre style=\"white-space:pre;overflow-x:auto;line-height:normal;font-family:Menlo,'DejaVu Sans Mono',consolas,'Courier New',monospace\">Chunk <span style=\"color: #008080; text-decoration-color: #008080; font-weight: bold\">22</span>:\n",
       "</pre>\n"
      ],
      "text/plain": [
       "Chunk \u001b[1;36m22\u001b[0m:\n"
      ]
     },
     "metadata": {},
     "output_type": "display_data"
    },
    {
     "data": {
      "text/html": [
       "<pre style=\"white-space:pre;overflow-x:auto;line-height:normal;font-family:Menlo,'DejaVu Sans Mono',consolas,'Courier New',monospace\">Length: <span style=\"color: #008080; text-decoration-color: #008080; font-weight: bold\">100</span> characters\n",
       "</pre>\n"
      ],
      "text/plain": [
       "Length: \u001b[1;36m100\u001b[0m characters\n"
      ]
     },
     "metadata": {},
     "output_type": "display_data"
    },
    {
     "data": {
      "text/html": [
       "<pre style=\"white-space:pre;overflow-x:auto;line-height:normal;font-family:Menlo,'DejaVu Sans Mono',consolas,'Courier New',monospace\">Content: M has also recently launched its Granite model series on watsonx.ai, which has become the generative\n",
       "</pre>\n"
      ],
      "text/plain": [
       "Content: M has also recently launched its Granite model series on watsonx.ai, which has become the generative\n"
      ]
     },
     "metadata": {},
     "output_type": "display_data"
    },
    {
     "data": {
      "text/html": [
       "<pre style=\"white-space:pre;overflow-x:auto;line-height:normal;font-family:Menlo,'DejaVu Sans Mono',consolas,'Courier New',monospace\">------------------------------\n",
       "</pre>\n"
      ],
      "text/plain": [
       "------------------------------\n"
      ]
     },
     "metadata": {},
     "output_type": "display_data"
    },
    {
     "data": {
      "text/html": [
       "<pre style=\"white-space:pre;overflow-x:auto;line-height:normal;font-family:Menlo,'DejaVu Sans Mono',consolas,'Courier New',monospace\">Chunk <span style=\"color: #008080; text-decoration-color: #008080; font-weight: bold\">23</span>:\n",
       "</pre>\n"
      ],
      "text/plain": [
       "Chunk \u001b[1;36m23\u001b[0m:\n"
      ]
     },
     "metadata": {},
     "output_type": "display_data"
    },
    {
     "data": {
      "text/html": [
       "<pre style=\"white-space:pre;overflow-x:auto;line-height:normal;font-family:Menlo,'DejaVu Sans Mono',consolas,'Courier New',monospace\">Length: <span style=\"color: #008080; text-decoration-color: #008080; font-weight: bold\">100</span> characters\n",
       "</pre>\n"
      ],
      "text/plain": [
       "Length: \u001b[1;36m100\u001b[0m characters\n"
      ]
     },
     "metadata": {},
     "output_type": "display_data"
    },
    {
     "data": {
      "text/html": [
       "<pre style=\"white-space:pre;overflow-x:auto;line-height:normal;font-family:Menlo,'DejaVu Sans Mono',consolas,'Courier New',monospace\">Content: generative AI backbone for other IBM products like watsonx Assistant and watsonx Orchestrate.In a nu\n",
       "</pre>\n"
      ],
      "text/plain": [
       "Content: generative AI backbone for other IBM products like watsonx Assistant and watsonx Orchestrate.In a nu\n"
      ]
     },
     "metadata": {},
     "output_type": "display_data"
    },
    {
     "data": {
      "text/html": [
       "<pre style=\"white-space:pre;overflow-x:auto;line-height:normal;font-family:Menlo,'DejaVu Sans Mono',consolas,'Courier New',monospace\">------------------------------\n",
       "</pre>\n"
      ],
      "text/plain": [
       "------------------------------\n"
      ]
     },
     "metadata": {},
     "output_type": "display_data"
    },
    {
     "data": {
      "text/html": [
       "<pre style=\"white-space:pre;overflow-x:auto;line-height:normal;font-family:Menlo,'DejaVu Sans Mono',consolas,'Courier New',monospace\">Chunk <span style=\"color: #008080; text-decoration-color: #008080; font-weight: bold\">24</span>:\n",
       "</pre>\n"
      ],
      "text/plain": [
       "Chunk \u001b[1;36m24\u001b[0m:\n"
      ]
     },
     "metadata": {},
     "output_type": "display_data"
    },
    {
     "data": {
      "text/html": [
       "<pre style=\"white-space:pre;overflow-x:auto;line-height:normal;font-family:Menlo,'DejaVu Sans Mono',consolas,'Courier New',monospace\">Length: <span style=\"color: #008080; text-decoration-color: #008080; font-weight: bold\">100</span> characters\n",
       "</pre>\n"
      ],
      "text/plain": [
       "Length: \u001b[1;36m100\u001b[0m characters\n"
      ]
     },
     "metadata": {},
     "output_type": "display_data"
    },
    {
     "data": {
      "text/html": [
       "<pre style=\"white-space:pre;overflow-x:auto;line-height:normal;font-family:Menlo,'DejaVu Sans Mono',consolas,'Courier New',monospace\">Content: te.In a nutshell, LLMs are designed to understand and generate text like a human, in addition to oth\n",
       "</pre>\n"
      ],
      "text/plain": [
       "Content: te.In a nutshell, LLMs are designed to understand and generate text like a human, in addition to oth\n"
      ]
     },
     "metadata": {},
     "output_type": "display_data"
    },
    {
     "data": {
      "text/html": [
       "<pre style=\"white-space:pre;overflow-x:auto;line-height:normal;font-family:Menlo,'DejaVu Sans Mono',consolas,'Courier New',monospace\">------------------------------\n",
       "</pre>\n"
      ],
      "text/plain": [
       "------------------------------\n"
      ]
     },
     "metadata": {},
     "output_type": "display_data"
    },
    {
     "data": {
      "text/html": [
       "<pre style=\"white-space:pre;overflow-x:auto;line-height:normal;font-family:Menlo,'DejaVu Sans Mono',consolas,'Courier New',monospace\">Chunk <span style=\"color: #008080; text-decoration-color: #008080; font-weight: bold\">25</span>:\n",
       "</pre>\n"
      ],
      "text/plain": [
       "Chunk \u001b[1;36m25\u001b[0m:\n"
      ]
     },
     "metadata": {},
     "output_type": "display_data"
    },
    {
     "data": {
      "text/html": [
       "<pre style=\"white-space:pre;overflow-x:auto;line-height:normal;font-family:Menlo,'DejaVu Sans Mono',consolas,'Courier New',monospace\">Length: <span style=\"color: #008080; text-decoration-color: #008080; font-weight: bold\">100</span> characters\n",
       "</pre>\n"
      ],
      "text/plain": [
       "Length: \u001b[1;36m100\u001b[0m characters\n"
      ]
     },
     "metadata": {},
     "output_type": "display_data"
    },
    {
     "data": {
      "text/html": [
       "<pre style=\"white-space:pre;overflow-x:auto;line-height:normal;font-family:Menlo,'DejaVu Sans Mono',consolas,'Courier New',monospace\">Content: ion to other forms of content, based on the vast amount of data used to train them.\n",
       "They have the ab\n",
       "</pre>\n"
      ],
      "text/plain": [
       "Content: ion to other forms of content, based on the vast amount of data used to train them.\n",
       "They have the ab\n"
      ]
     },
     "metadata": {},
     "output_type": "display_data"
    },
    {
     "data": {
      "text/html": [
       "<pre style=\"white-space:pre;overflow-x:auto;line-height:normal;font-family:Menlo,'DejaVu Sans Mono',consolas,'Courier New',monospace\">------------------------------\n",
       "</pre>\n"
      ],
      "text/plain": [
       "------------------------------\n"
      ]
     },
     "metadata": {},
     "output_type": "display_data"
    },
    {
     "data": {
      "text/html": [
       "<pre style=\"white-space:pre;overflow-x:auto;line-height:normal;font-family:Menlo,'DejaVu Sans Mono',consolas,'Courier New',monospace\">Chunk <span style=\"color: #008080; text-decoration-color: #008080; font-weight: bold\">26</span>:\n",
       "</pre>\n"
      ],
      "text/plain": [
       "Chunk \u001b[1;36m26\u001b[0m:\n"
      ]
     },
     "metadata": {},
     "output_type": "display_data"
    },
    {
     "data": {
      "text/html": [
       "<pre style=\"white-space:pre;overflow-x:auto;line-height:normal;font-family:Menlo,'DejaVu Sans Mono',consolas,'Courier New',monospace\">Length: <span style=\"color: #008080; text-decoration-color: #008080; font-weight: bold\">100</span> characters\n",
       "</pre>\n"
      ],
      "text/plain": [
       "Length: \u001b[1;36m100\u001b[0m characters\n"
      ]
     },
     "metadata": {},
     "output_type": "display_data"
    },
    {
     "data": {
      "text/html": [
       "<pre style=\"white-space:pre;overflow-x:auto;line-height:normal;font-family:Menlo,'DejaVu Sans Mono',consolas,'Courier New',monospace\">Content: ave the ability to infer from context, generate coherent and contextually relevant responses, transl\n",
       "</pre>\n"
      ],
      "text/plain": [
       "Content: ave the ability to infer from context, generate coherent and contextually relevant responses, transl\n"
      ]
     },
     "metadata": {},
     "output_type": "display_data"
    },
    {
     "data": {
      "text/html": [
       "<pre style=\"white-space:pre;overflow-x:auto;line-height:normal;font-family:Menlo,'DejaVu Sans Mono',consolas,'Courier New',monospace\">------------------------------\n",
       "</pre>\n"
      ],
      "text/plain": [
       "------------------------------\n"
      ]
     },
     "metadata": {},
     "output_type": "display_data"
    },
    {
     "data": {
      "text/html": [
       "<pre style=\"white-space:pre;overflow-x:auto;line-height:normal;font-family:Menlo,'DejaVu Sans Mono',consolas,'Courier New',monospace\">Chunk <span style=\"color: #008080; text-decoration-color: #008080; font-weight: bold\">27</span>:\n",
       "</pre>\n"
      ],
      "text/plain": [
       "Chunk \u001b[1;36m27\u001b[0m:\n"
      ]
     },
     "metadata": {},
     "output_type": "display_data"
    },
    {
     "data": {
      "text/html": [
       "<pre style=\"white-space:pre;overflow-x:auto;line-height:normal;font-family:Menlo,'DejaVu Sans Mono',consolas,'Courier New',monospace\">Length: <span style=\"color: #008080; text-decoration-color: #008080; font-weight: bold\">100</span> characters\n",
       "</pre>\n"
      ],
      "text/plain": [
       "Length: \u001b[1;36m100\u001b[0m characters\n"
      ]
     },
     "metadata": {},
     "output_type": "display_data"
    },
    {
     "data": {
      "text/html": [
       "<pre style=\"white-space:pre;overflow-x:auto;line-height:normal;font-family:Menlo,'DejaVu Sans Mono',consolas,'Courier New',monospace\">Content: es, translate to languages other than English, summarize text, answer questions <span style=\"font-weight: bold\">(</span>general conversatio\n",
       "</pre>\n"
      ],
      "text/plain": [
       "Content: es, translate to languages other than English, summarize text, answer questions \u001b[1m(\u001b[0mgeneral conversatio\n"
      ]
     },
     "metadata": {},
     "output_type": "display_data"
    },
    {
     "data": {
      "text/html": [
       "<pre style=\"white-space:pre;overflow-x:auto;line-height:normal;font-family:Menlo,'DejaVu Sans Mono',consolas,'Courier New',monospace\">------------------------------\n",
       "</pre>\n"
      ],
      "text/plain": [
       "------------------------------\n"
      ]
     },
     "metadata": {},
     "output_type": "display_data"
    },
    {
     "data": {
      "text/html": [
       "<pre style=\"white-space:pre;overflow-x:auto;line-height:normal;font-family:Menlo,'DejaVu Sans Mono',consolas,'Courier New',monospace\">Chunk <span style=\"color: #008080; text-decoration-color: #008080; font-weight: bold\">28</span>:\n",
       "</pre>\n"
      ],
      "text/plain": [
       "Chunk \u001b[1;36m28\u001b[0m:\n"
      ]
     },
     "metadata": {},
     "output_type": "display_data"
    },
    {
     "data": {
      "text/html": [
       "<pre style=\"white-space:pre;overflow-x:auto;line-height:normal;font-family:Menlo,'DejaVu Sans Mono',consolas,'Courier New',monospace\">Length: <span style=\"color: #008080; text-decoration-color: #008080; font-weight: bold\">100</span> characters\n",
       "</pre>\n"
      ],
      "text/plain": [
       "Length: \u001b[1;36m100\u001b[0m characters\n"
      ]
     },
     "metadata": {},
     "output_type": "display_data"
    },
    {
     "data": {
      "text/html": [
       "<pre style=\"white-space:pre;overflow-x:auto;line-height:normal;font-family:Menlo,'DejaVu Sans Mono',consolas,'Courier New',monospace\">Content: onversation and FAQs<span style=\"font-weight: bold\">)</span> and even assist in creative writing or code generation tasks.\n",
       "They are able to\n",
       "</pre>\n"
      ],
      "text/plain": [
       "Content: onversation and FAQs\u001b[1m)\u001b[0m and even assist in creative writing or code generation tasks.\n",
       "They are able to\n"
      ]
     },
     "metadata": {},
     "output_type": "display_data"
    },
    {
     "data": {
      "text/html": [
       "<pre style=\"white-space:pre;overflow-x:auto;line-height:normal;font-family:Menlo,'DejaVu Sans Mono',consolas,'Courier New',monospace\">------------------------------\n",
       "</pre>\n"
      ],
      "text/plain": [
       "------------------------------\n"
      ]
     },
     "metadata": {},
     "output_type": "display_data"
    },
    {
     "data": {
      "text/html": [
       "<pre style=\"white-space:pre;overflow-x:auto;line-height:normal;font-family:Menlo,'DejaVu Sans Mono',consolas,'Courier New',monospace\">Chunk <span style=\"color: #008080; text-decoration-color: #008080; font-weight: bold\">29</span>:\n",
       "</pre>\n"
      ],
      "text/plain": [
       "Chunk \u001b[1;36m29\u001b[0m:\n"
      ]
     },
     "metadata": {},
     "output_type": "display_data"
    },
    {
     "data": {
      "text/html": [
       "<pre style=\"white-space:pre;overflow-x:auto;line-height:normal;font-family:Menlo,'DejaVu Sans Mono',consolas,'Courier New',monospace\">Length: <span style=\"color: #008080; text-decoration-color: #008080; font-weight: bold\">100</span> characters\n",
       "</pre>\n"
      ],
      "text/plain": [
       "Length: \u001b[1;36m100\u001b[0m characters\n"
      ]
     },
     "metadata": {},
     "output_type": "display_data"
    },
    {
     "data": {
      "text/html": [
       "<pre style=\"white-space:pre;overflow-x:auto;line-height:normal;font-family:Menlo,'DejaVu Sans Mono',consolas,'Courier New',monospace\">Content: re able to do this thanks to billions of parameters that enable them to capture intricate patterns i\n",
       "</pre>\n"
      ],
      "text/plain": [
       "Content: re able to do this thanks to billions of parameters that enable them to capture intricate patterns i\n"
      ]
     },
     "metadata": {},
     "output_type": "display_data"
    },
    {
     "data": {
      "text/html": [
       "<pre style=\"white-space:pre;overflow-x:auto;line-height:normal;font-family:Menlo,'DejaVu Sans Mono',consolas,'Courier New',monospace\">------------------------------\n",
       "</pre>\n"
      ],
      "text/plain": [
       "------------------------------\n"
      ]
     },
     "metadata": {},
     "output_type": "display_data"
    },
    {
     "data": {
      "text/html": [
       "<pre style=\"white-space:pre;overflow-x:auto;line-height:normal;font-family:Menlo,'DejaVu Sans Mono',consolas,'Courier New',monospace\">Chunk <span style=\"color: #008080; text-decoration-color: #008080; font-weight: bold\">30</span>:\n",
       "</pre>\n"
      ],
      "text/plain": [
       "Chunk \u001b[1;36m30\u001b[0m:\n"
      ]
     },
     "metadata": {},
     "output_type": "display_data"
    },
    {
     "data": {
      "text/html": [
       "<pre style=\"white-space:pre;overflow-x:auto;line-height:normal;font-family:Menlo,'DejaVu Sans Mono',consolas,'Courier New',monospace\">Length: <span style=\"color: #008080; text-decoration-color: #008080; font-weight: bold\">100</span> characters\n",
       "</pre>\n"
      ],
      "text/plain": [
       "Length: \u001b[1;36m100\u001b[0m characters\n"
      ]
     },
     "metadata": {},
     "output_type": "display_data"
    },
    {
     "data": {
      "text/html": [
       "<pre style=\"white-space:pre;overflow-x:auto;line-height:normal;font-family:Menlo,'DejaVu Sans Mono',consolas,'Courier New',monospace\">Content: patterns in language and perform a wide array of language-related tasks.\n",
       "LLMs are revolutionizing ap\n",
       "</pre>\n"
      ],
      "text/plain": [
       "Content: patterns in language and perform a wide array of language-related tasks.\n",
       "LLMs are revolutionizing ap\n"
      ]
     },
     "metadata": {},
     "output_type": "display_data"
    },
    {
     "data": {
      "text/html": [
       "<pre style=\"white-space:pre;overflow-x:auto;line-height:normal;font-family:Menlo,'DejaVu Sans Mono',consolas,'Courier New',monospace\">------------------------------\n",
       "</pre>\n"
      ],
      "text/plain": [
       "------------------------------\n"
      ]
     },
     "metadata": {},
     "output_type": "display_data"
    },
    {
     "data": {
      "text/html": [
       "<pre style=\"white-space:pre;overflow-x:auto;line-height:normal;font-family:Menlo,'DejaVu Sans Mono',consolas,'Courier New',monospace\">Chunk <span style=\"color: #008080; text-decoration-color: #008080; font-weight: bold\">31</span>:\n",
       "</pre>\n"
      ],
      "text/plain": [
       "Chunk \u001b[1;36m31\u001b[0m:\n"
      ]
     },
     "metadata": {},
     "output_type": "display_data"
    },
    {
     "data": {
      "text/html": [
       "<pre style=\"white-space:pre;overflow-x:auto;line-height:normal;font-family:Menlo,'DejaVu Sans Mono',consolas,'Courier New',monospace\">Length: <span style=\"color: #008080; text-decoration-color: #008080; font-weight: bold\">99</span> characters\n",
       "</pre>\n"
      ],
      "text/plain": [
       "Length: \u001b[1;36m99\u001b[0m characters\n"
      ]
     },
     "metadata": {},
     "output_type": "display_data"
    },
    {
     "data": {
      "text/html": [
       "<pre style=\"white-space:pre;overflow-x:auto;line-height:normal;font-family:Menlo,'DejaVu Sans Mono',consolas,'Courier New',monospace\">Content: onizing applications in various fields, from chatbots and virtual assistants to content generation,\n",
       "</pre>\n"
      ],
      "text/plain": [
       "Content: onizing applications in various fields, from chatbots and virtual assistants to content generation,\n"
      ]
     },
     "metadata": {},
     "output_type": "display_data"
    },
    {
     "data": {
      "text/html": [
       "<pre style=\"white-space:pre;overflow-x:auto;line-height:normal;font-family:Menlo,'DejaVu Sans Mono',consolas,'Courier New',monospace\">------------------------------\n",
       "</pre>\n"
      ],
      "text/plain": [
       "------------------------------\n"
      ]
     },
     "metadata": {},
     "output_type": "display_data"
    },
    {
     "data": {
      "text/html": [
       "<pre style=\"white-space:pre;overflow-x:auto;line-height:normal;font-family:Menlo,'DejaVu Sans Mono',consolas,'Courier New',monospace\">Chunk <span style=\"color: #008080; text-decoration-color: #008080; font-weight: bold\">32</span>:\n",
       "</pre>\n"
      ],
      "text/plain": [
       "Chunk \u001b[1;36m32\u001b[0m:\n"
      ]
     },
     "metadata": {},
     "output_type": "display_data"
    },
    {
     "data": {
      "text/html": [
       "<pre style=\"white-space:pre;overflow-x:auto;line-height:normal;font-family:Menlo,'DejaVu Sans Mono',consolas,'Courier New',monospace\">Length: <span style=\"color: #008080; text-decoration-color: #008080; font-weight: bold\">55</span> characters\n",
       "</pre>\n"
      ],
      "text/plain": [
       "Length: \u001b[1;36m55\u001b[0m characters\n"
      ]
     },
     "metadata": {},
     "output_type": "display_data"
    },
    {
     "data": {
      "text/html": [
       "<pre style=\"white-space:pre;overflow-x:auto;line-height:normal;font-family:Menlo,'DejaVu Sans Mono',consolas,'Courier New',monospace\">Content: neration, research assistance and language translation.\n",
       "</pre>\n"
      ],
      "text/plain": [
       "Content: neration, research assistance and language translation.\n"
      ]
     },
     "metadata": {},
     "output_type": "display_data"
    },
    {
     "data": {
      "text/html": [
       "<pre style=\"white-space:pre;overflow-x:auto;line-height:normal;font-family:Menlo,'DejaVu Sans Mono',consolas,'Courier New',monospace\">------------------------------\n",
       "</pre>\n"
      ],
      "text/plain": [
       "------------------------------\n"
      ]
     },
     "metadata": {},
     "output_type": "display_data"
    }
   ],
   "source": [
    "from langchain_text_splitters import CharacterTextSplitter\n",
    "from rich import print\n",
    "\n",
    "character_splitter = CharacterTextSplitter(\n",
    "    chunk_size=100,  # Size in characters\n",
    "    chunk_overlap=10,  # Overlap between chunks\n",
    "    separator=\"\",\n",
    ")\n",
    "\n",
    "chunks = character_splitter.split_text(document)\n",
    "\n",
    "print(f\"Total number of chunks: {len(chunks)}\")\n",
    "\n",
    "for i, chunk in enumerate(chunks):\n",
    "    print(f\"Chunk {i+1}:\")\n",
    "    print(f\"Length: {len(chunk)} characters\")\n",
    "    print(f\"Content: {chunk}\")\n",
    "    print(\"-\"*30)"
   ]
  }
 ],
 "metadata": {
  "kernelspec": {
   "display_name": ".venv",
   "language": "python",
   "name": "python3"
  },
  "language_info": {
   "codemirror_mode": {
    "name": "ipython",
    "version": 3
   },
   "file_extension": ".py",
   "mimetype": "text/x-python",
   "name": "python",
   "nbconvert_exporter": "python",
   "pygments_lexer": "ipython3",
   "version": "3.13.4"
  }
 },
 "nbformat": 4,
 "nbformat_minor": 2
}
