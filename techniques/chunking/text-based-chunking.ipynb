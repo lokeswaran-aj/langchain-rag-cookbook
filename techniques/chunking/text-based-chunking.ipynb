{
 "cells": [
  {
   "cell_type": "code",
   "execution_count": 8,
   "metadata": {},
   "outputs": [
    {
     "name": "stdout",
     "output_type": "stream",
     "text": [
      "Note: you may need to restart the kernel to use updated packages.\n"
     ]
    }
   ],
   "source": [
    "%pip install -qU langchain-text-splitters rich"
   ]
  },
  {
   "cell_type": "code",
   "execution_count": 9,
   "metadata": {},
   "outputs": [
    {
     "data": {
      "text/html": [
       "<pre style=\"white-space:pre;overflow-x:auto;line-height:normal;font-family:Menlo,'DejaVu Sans Mono',consolas,'Courier New',monospace\"><span style=\"color: #008080; text-decoration-color: #008080; font-weight: bold\">1</span>. LLM <span style=\"font-weight: bold\">(</span>Large Language Models<span style=\"font-weight: bold\">)</span>\n",
       "Large Language Models, or LLMs, are advanced AI systems trained on massive amounts of text data to understand and \n",
       "generate human-like language. Think of them as really smart autocomplete engines that can answer questions, write \n",
       "code, summarize articles, and even chat like a real person. They work using neural networks, especially transformer\n",
       "architectures, which allow them to capture complex patterns in language. LLMs are the backbone of most modern AI \n",
       "tools, including ChatGPT. But they’re not magic—they have limitations like hallucinations and bias. Still, when \n",
       "used right, they’re game-changers for research, content, dev workflows, and beyond.\n",
       "\n",
       "<span style=\"color: #008080; text-decoration-color: #008080; font-weight: bold\">2</span>. OpenAI\n",
       "OpenAI is the company behind ChatGPT, DALL·E, Codex, and a bunch of other frontier AI tech. It started as a \n",
       "non-profit research lab in <span style=\"color: #008080; text-decoration-color: #008080; font-weight: bold\">2015</span> but later became a capped-profit org to scale faster. Their mission? To ensure \n",
       "artificial general intelligence <span style=\"font-weight: bold\">(</span>AGI<span style=\"font-weight: bold\">)</span> benefits all of humanity. They've pushed the boundaries with models like \n",
       "GPT-<span style=\"color: #008080; text-decoration-color: #008080; font-weight: bold\">3</span>, GPT-<span style=\"color: #008080; text-decoration-color: #008080; font-weight: bold\">4</span>, and now GPT-4o, which understands text, images, and audio. OpenAI also powers products like Microsoft\n",
       "Copilot and ChatGPT Enterprise. While they get love for innovation, they've also stirred debates around AI safety, \n",
       "openness, and commercialization. But no doubt—they’ve shaped the entire AI landscape.\n",
       "\n",
       "<span style=\"color: #008080; text-decoration-color: #008080; font-weight: bold\">3</span>. Next.js\n",
       "Next.js is a popular web framework built on top of React, designed to make building modern websites fast and easy. \n",
       "Created by Vercel, it supports server-side rendering <span style=\"font-weight: bold\">(</span>SSR<span style=\"font-weight: bold\">)</span>, static site generation <span style=\"font-weight: bold\">(</span>SSG<span style=\"font-weight: bold\">)</span>, and incremental static \n",
       "regeneration <span style=\"font-weight: bold\">(</span>ISR<span style=\"font-weight: bold\">)</span>, which means you get performance and flexibility. It’s perfect for SEO-friendly sites, \n",
       "dashboards, e-commerce, and basically any fullstack app with a great dev experience. With built-in routing, image \n",
       "optimization, and API routes, it removes a lot of the boilerplate. Plus, it integrates smoothly with TypeScript and\n",
       "Tailwind. It’s the go-to stack for a lot of startups and indie devs alike.\n",
       "\n",
       "<span style=\"color: #008080; text-decoration-color: #008080; font-weight: bold\">4</span>. Love\n",
       "Love is messy, chaotic, grounding, euphoric, terrifying, and everything in between. It’s more than butterflies—it's\n",
       "showing up, staying curious, and being vulnerable. Romantic or platonic, love is that quiet comfort of being seen \n",
       "and still accepted. It’s late-night talks, shared playlists, holding space, and growing together <span style=\"font-weight: bold\">(</span>or apart, \n",
       "sometimes<span style=\"font-weight: bold\">)</span>. Love isn’t just words; it’s action. And it changes us—shakes our ego, softens our armor. In a world \n",
       "full of noise and distraction, genuine love feels like a rare signal, something we don’t fully understand but keep \n",
       "chasing anyway. And maybe that’s the whole point.\n",
       "\n",
       "<span style=\"color: #008080; text-decoration-color: #008080; font-weight: bold\">5</span>. Gym\n",
       "The gym is more than a place to get fit—it’s therapy, routine, and discipline all rolled into one. Whether you’re \n",
       "lifting, running, or stretching, it’s a space where effort translates directly into progress. You show up tired, \n",
       "stressed, maybe anxious—but leave a bit stronger, both mentally and physically. It’s a reminder that growth takes \n",
       "time and consistency. And yeah, the gains are nice, but the confidence and mental clarity hit even harder. Some \n",
       "days it’s a grind, other days it’s euphoric. Either way, it teaches you to push past limits. No shortcuts, just \n",
       "reps.\n",
       "</pre>\n"
      ],
      "text/plain": [
       "\u001b[1;36m1\u001b[0m. LLM \u001b[1m(\u001b[0mLarge Language Models\u001b[1m)\u001b[0m\n",
       "Large Language Models, or LLMs, are advanced AI systems trained on massive amounts of text data to understand and \n",
       "generate human-like language. Think of them as really smart autocomplete engines that can answer questions, write \n",
       "code, summarize articles, and even chat like a real person. They work using neural networks, especially transformer\n",
       "architectures, which allow them to capture complex patterns in language. LLMs are the backbone of most modern AI \n",
       "tools, including ChatGPT. But they’re not magic—they have limitations like hallucinations and bias. Still, when \n",
       "used right, they’re game-changers for research, content, dev workflows, and beyond.\n",
       "\n",
       "\u001b[1;36m2\u001b[0m. OpenAI\n",
       "OpenAI is the company behind ChatGPT, DALL·E, Codex, and a bunch of other frontier AI tech. It started as a \n",
       "non-profit research lab in \u001b[1;36m2015\u001b[0m but later became a capped-profit org to scale faster. Their mission? To ensure \n",
       "artificial general intelligence \u001b[1m(\u001b[0mAGI\u001b[1m)\u001b[0m benefits all of humanity. They've pushed the boundaries with models like \n",
       "GPT-\u001b[1;36m3\u001b[0m, GPT-\u001b[1;36m4\u001b[0m, and now GPT-4o, which understands text, images, and audio. OpenAI also powers products like Microsoft\n",
       "Copilot and ChatGPT Enterprise. While they get love for innovation, they've also stirred debates around AI safety, \n",
       "openness, and commercialization. But no doubt—they’ve shaped the entire AI landscape.\n",
       "\n",
       "\u001b[1;36m3\u001b[0m. Next.js\n",
       "Next.js is a popular web framework built on top of React, designed to make building modern websites fast and easy. \n",
       "Created by Vercel, it supports server-side rendering \u001b[1m(\u001b[0mSSR\u001b[1m)\u001b[0m, static site generation \u001b[1m(\u001b[0mSSG\u001b[1m)\u001b[0m, and incremental static \n",
       "regeneration \u001b[1m(\u001b[0mISR\u001b[1m)\u001b[0m, which means you get performance and flexibility. It’s perfect for SEO-friendly sites, \n",
       "dashboards, e-commerce, and basically any fullstack app with a great dev experience. With built-in routing, image \n",
       "optimization, and API routes, it removes a lot of the boilerplate. Plus, it integrates smoothly with TypeScript and\n",
       "Tailwind. It’s the go-to stack for a lot of startups and indie devs alike.\n",
       "\n",
       "\u001b[1;36m4\u001b[0m. Love\n",
       "Love is messy, chaotic, grounding, euphoric, terrifying, and everything in between. It’s more than butterflies—it's\n",
       "showing up, staying curious, and being vulnerable. Romantic or platonic, love is that quiet comfort of being seen \n",
       "and still accepted. It’s late-night talks, shared playlists, holding space, and growing together \u001b[1m(\u001b[0mor apart, \n",
       "sometimes\u001b[1m)\u001b[0m. Love isn’t just words; it’s action. And it changes us—shakes our ego, softens our armor. In a world \n",
       "full of noise and distraction, genuine love feels like a rare signal, something we don’t fully understand but keep \n",
       "chasing anyway. And maybe that’s the whole point.\n",
       "\n",
       "\u001b[1;36m5\u001b[0m. Gym\n",
       "The gym is more than a place to get fit—it’s therapy, routine, and discipline all rolled into one. Whether you’re \n",
       "lifting, running, or stretching, it’s a space where effort translates directly into progress. You show up tired, \n",
       "stressed, maybe anxious—but leave a bit stronger, both mentally and physically. It’s a reminder that growth takes \n",
       "time and consistency. And yeah, the gains are nice, but the confidence and mental clarity hit even harder. Some \n",
       "days it’s a grind, other days it’s euphoric. Either way, it teaches you to push past limits. No shortcuts, just \n",
       "reps.\n"
      ]
     },
     "metadata": {},
     "output_type": "display_data"
    }
   ],
   "source": [
    "with open(\"document.txt\") as f:\n",
    "    document = f.read()\n",
    "\n",
    "print(document)"
   ]
  },
  {
   "cell_type": "code",
   "execution_count": 11,
   "metadata": {},
   "outputs": [
    {
     "data": {
      "text/html": [
       "<pre style=\"white-space:pre;overflow-x:auto;line-height:normal;font-family:Menlo,'DejaVu Sans Mono',consolas,'Courier New',monospace\">Total number of chunks: <span style=\"color: #008080; text-decoration-color: #008080; font-weight: bold\">24</span>\n",
       "</pre>\n"
      ],
      "text/plain": [
       "Total number of chunks: \u001b[1;36m24\u001b[0m\n"
      ]
     },
     "metadata": {},
     "output_type": "display_data"
    },
    {
     "data": {
      "text/html": [
       "<pre style=\"white-space:pre;overflow-x:auto;line-height:normal;font-family:Menlo,'DejaVu Sans Mono',consolas,'Courier New',monospace\">Chunk <span style=\"color: #008080; text-decoration-color: #008080; font-weight: bold\">1</span>:\n",
       "</pre>\n"
      ],
      "text/plain": [
       "Chunk \u001b[1;36m1\u001b[0m:\n"
      ]
     },
     "metadata": {},
     "output_type": "display_data"
    },
    {
     "data": {
      "text/html": [
       "<pre style=\"white-space:pre;overflow-x:auto;line-height:normal;font-family:Menlo,'DejaVu Sans Mono',consolas,'Courier New',monospace\">Length: <span style=\"color: #008080; text-decoration-color: #008080; font-weight: bold\">30</span> characters\n",
       "</pre>\n"
      ],
      "text/plain": [
       "Length: \u001b[1;36m30\u001b[0m characters\n"
      ]
     },
     "metadata": {},
     "output_type": "display_data"
    },
    {
     "data": {
      "text/html": [
       "<pre style=\"white-space:pre;overflow-x:auto;line-height:normal;font-family:Menlo,'DejaVu Sans Mono',consolas,'Courier New',monospace\">Content: <span style=\"color: #008080; text-decoration-color: #008080; font-weight: bold\">1</span>. LLM <span style=\"font-weight: bold\">(</span>Large Language Models<span style=\"font-weight: bold\">)</span>\n",
       "</pre>\n"
      ],
      "text/plain": [
       "Content: \u001b[1;36m1\u001b[0m. LLM \u001b[1m(\u001b[0mLarge Language Models\u001b[1m)\u001b[0m\n"
      ]
     },
     "metadata": {},
     "output_type": "display_data"
    },
    {
     "data": {
      "text/html": [
       "<pre style=\"white-space:pre;overflow-x:auto;line-height:normal;font-family:Menlo,'DejaVu Sans Mono',consolas,'Courier New',monospace\">------------------------------\n",
       "</pre>\n"
      ],
      "text/plain": [
       "------------------------------\n"
      ]
     },
     "metadata": {},
     "output_type": "display_data"
    },
    {
     "data": {
      "text/html": [
       "<pre style=\"white-space:pre;overflow-x:auto;line-height:normal;font-family:Menlo,'DejaVu Sans Mono',consolas,'Courier New',monospace\">Chunk <span style=\"color: #008080; text-decoration-color: #008080; font-weight: bold\">2</span>:\n",
       "</pre>\n"
      ],
      "text/plain": [
       "Chunk \u001b[1;36m2\u001b[0m:\n"
      ]
     },
     "metadata": {},
     "output_type": "display_data"
    },
    {
     "data": {
      "text/html": [
       "<pre style=\"white-space:pre;overflow-x:auto;line-height:normal;font-family:Menlo,'DejaVu Sans Mono',consolas,'Courier New',monospace\">Length: <span style=\"color: #008080; text-decoration-color: #008080; font-weight: bold\">199</span> characters\n",
       "</pre>\n"
      ],
      "text/plain": [
       "Length: \u001b[1;36m199\u001b[0m characters\n"
      ]
     },
     "metadata": {},
     "output_type": "display_data"
    },
    {
     "data": {
      "text/html": [
       "<pre style=\"white-space:pre;overflow-x:auto;line-height:normal;font-family:Menlo,'DejaVu Sans Mono',consolas,'Courier New',monospace\">Content: Large Language Models, or LLMs, are advanced AI systems trained on massive amounts of text data to \n",
       "understand and generate human-like language. Think of them as really smart autocomplete engines that\n",
       "</pre>\n"
      ],
      "text/plain": [
       "Content: Large Language Models, or LLMs, are advanced AI systems trained on massive amounts of text data to \n",
       "understand and generate human-like language. Think of them as really smart autocomplete engines that\n"
      ]
     },
     "metadata": {},
     "output_type": "display_data"
    },
    {
     "data": {
      "text/html": [
       "<pre style=\"white-space:pre;overflow-x:auto;line-height:normal;font-family:Menlo,'DejaVu Sans Mono',consolas,'Courier New',monospace\">------------------------------\n",
       "</pre>\n"
      ],
      "text/plain": [
       "------------------------------\n"
      ]
     },
     "metadata": {},
     "output_type": "display_data"
    },
    {
     "data": {
      "text/html": [
       "<pre style=\"white-space:pre;overflow-x:auto;line-height:normal;font-family:Menlo,'DejaVu Sans Mono',consolas,'Courier New',monospace\">Chunk <span style=\"color: #008080; text-decoration-color: #008080; font-weight: bold\">3</span>:\n",
       "</pre>\n"
      ],
      "text/plain": [
       "Chunk \u001b[1;36m3\u001b[0m:\n"
      ]
     },
     "metadata": {},
     "output_type": "display_data"
    },
    {
     "data": {
      "text/html": [
       "<pre style=\"white-space:pre;overflow-x:auto;line-height:normal;font-family:Menlo,'DejaVu Sans Mono',consolas,'Courier New',monospace\">Length: <span style=\"color: #008080; text-decoration-color: #008080; font-weight: bold\">199</span> characters\n",
       "</pre>\n"
      ],
      "text/plain": [
       "Length: \u001b[1;36m199\u001b[0m characters\n"
      ]
     },
     "metadata": {},
     "output_type": "display_data"
    },
    {
     "data": {
      "text/html": [
       "<pre style=\"white-space:pre;overflow-x:auto;line-height:normal;font-family:Menlo,'DejaVu Sans Mono',consolas,'Courier New',monospace\">Content: that can answer questions, write code, summarize articles, and even chat like a real person. They work \n",
       "using neural networks, especially transformer architectures, which allow them to capture complex\n",
       "</pre>\n"
      ],
      "text/plain": [
       "Content: that can answer questions, write code, summarize articles, and even chat like a real person. They work \n",
       "using neural networks, especially transformer architectures, which allow them to capture complex\n"
      ]
     },
     "metadata": {},
     "output_type": "display_data"
    },
    {
     "data": {
      "text/html": [
       "<pre style=\"white-space:pre;overflow-x:auto;line-height:normal;font-family:Menlo,'DejaVu Sans Mono',consolas,'Courier New',monospace\">------------------------------\n",
       "</pre>\n"
      ],
      "text/plain": [
       "------------------------------\n"
      ]
     },
     "metadata": {},
     "output_type": "display_data"
    },
    {
     "data": {
      "text/html": [
       "<pre style=\"white-space:pre;overflow-x:auto;line-height:normal;font-family:Menlo,'DejaVu Sans Mono',consolas,'Courier New',monospace\">Chunk <span style=\"color: #008080; text-decoration-color: #008080; font-weight: bold\">4</span>:\n",
       "</pre>\n"
      ],
      "text/plain": [
       "Chunk \u001b[1;36m4\u001b[0m:\n"
      ]
     },
     "metadata": {},
     "output_type": "display_data"
    },
    {
     "data": {
      "text/html": [
       "<pre style=\"white-space:pre;overflow-x:auto;line-height:normal;font-family:Menlo,'DejaVu Sans Mono',consolas,'Courier New',monospace\">Length: <span style=\"color: #008080; text-decoration-color: #008080; font-weight: bold\">193</span> characters\n",
       "</pre>\n"
      ],
      "text/plain": [
       "Length: \u001b[1;36m193\u001b[0m characters\n"
      ]
     },
     "metadata": {},
     "output_type": "display_data"
    },
    {
     "data": {
      "text/html": [
       "<pre style=\"white-space:pre;overflow-x:auto;line-height:normal;font-family:Menlo,'DejaVu Sans Mono',consolas,'Courier New',monospace\">Content: complex patterns in language. LLMs are the backbone of most modern AI tools, including ChatGPT. But \n",
       "they’re not magic—they have limitations like hallucinations and bias. Still, when used right,\n",
       "</pre>\n"
      ],
      "text/plain": [
       "Content: complex patterns in language. LLMs are the backbone of most modern AI tools, including ChatGPT. But \n",
       "they’re not magic—they have limitations like hallucinations and bias. Still, when used right,\n"
      ]
     },
     "metadata": {},
     "output_type": "display_data"
    },
    {
     "data": {
      "text/html": [
       "<pre style=\"white-space:pre;overflow-x:auto;line-height:normal;font-family:Menlo,'DejaVu Sans Mono',consolas,'Courier New',monospace\">------------------------------\n",
       "</pre>\n"
      ],
      "text/plain": [
       "------------------------------\n"
      ]
     },
     "metadata": {},
     "output_type": "display_data"
    },
    {
     "data": {
      "text/html": [
       "<pre style=\"white-space:pre;overflow-x:auto;line-height:normal;font-family:Menlo,'DejaVu Sans Mono',consolas,'Courier New',monospace\">Chunk <span style=\"color: #008080; text-decoration-color: #008080; font-weight: bold\">5</span>:\n",
       "</pre>\n"
      ],
      "text/plain": [
       "Chunk \u001b[1;36m5\u001b[0m:\n"
      ]
     },
     "metadata": {},
     "output_type": "display_data"
    },
    {
     "data": {
      "text/html": [
       "<pre style=\"white-space:pre;overflow-x:auto;line-height:normal;font-family:Menlo,'DejaVu Sans Mono',consolas,'Courier New',monospace\">Length: <span style=\"color: #008080; text-decoration-color: #008080; font-weight: bold\">78</span> characters\n",
       "</pre>\n"
      ],
      "text/plain": [
       "Length: \u001b[1;36m78\u001b[0m characters\n"
      ]
     },
     "metadata": {},
     "output_type": "display_data"
    },
    {
     "data": {
      "text/html": [
       "<pre style=\"white-space:pre;overflow-x:auto;line-height:normal;font-family:Menlo,'DejaVu Sans Mono',consolas,'Courier New',monospace\">Content: right, they’re game-changers for research, content, dev workflows, and beyond.\n",
       "</pre>\n"
      ],
      "text/plain": [
       "Content: right, they’re game-changers for research, content, dev workflows, and beyond.\n"
      ]
     },
     "metadata": {},
     "output_type": "display_data"
    },
    {
     "data": {
      "text/html": [
       "<pre style=\"white-space:pre;overflow-x:auto;line-height:normal;font-family:Menlo,'DejaVu Sans Mono',consolas,'Courier New',monospace\">------------------------------\n",
       "</pre>\n"
      ],
      "text/plain": [
       "------------------------------\n"
      ]
     },
     "metadata": {},
     "output_type": "display_data"
    },
    {
     "data": {
      "text/html": [
       "<pre style=\"white-space:pre;overflow-x:auto;line-height:normal;font-family:Menlo,'DejaVu Sans Mono',consolas,'Courier New',monospace\">Chunk <span style=\"color: #008080; text-decoration-color: #008080; font-weight: bold\">6</span>:\n",
       "</pre>\n"
      ],
      "text/plain": [
       "Chunk \u001b[1;36m6\u001b[0m:\n"
      ]
     },
     "metadata": {},
     "output_type": "display_data"
    },
    {
     "data": {
      "text/html": [
       "<pre style=\"white-space:pre;overflow-x:auto;line-height:normal;font-family:Menlo,'DejaVu Sans Mono',consolas,'Courier New',monospace\">Length: <span style=\"color: #008080; text-decoration-color: #008080; font-weight: bold\">9</span> characters\n",
       "</pre>\n"
      ],
      "text/plain": [
       "Length: \u001b[1;36m9\u001b[0m characters\n"
      ]
     },
     "metadata": {},
     "output_type": "display_data"
    },
    {
     "data": {
      "text/html": [
       "<pre style=\"white-space:pre;overflow-x:auto;line-height:normal;font-family:Menlo,'DejaVu Sans Mono',consolas,'Courier New',monospace\">Content: <span style=\"color: #008080; text-decoration-color: #008080; font-weight: bold\">2</span>. OpenAI\n",
       "</pre>\n"
      ],
      "text/plain": [
       "Content: \u001b[1;36m2\u001b[0m. OpenAI\n"
      ]
     },
     "metadata": {},
     "output_type": "display_data"
    },
    {
     "data": {
      "text/html": [
       "<pre style=\"white-space:pre;overflow-x:auto;line-height:normal;font-family:Menlo,'DejaVu Sans Mono',consolas,'Courier New',monospace\">------------------------------\n",
       "</pre>\n"
      ],
      "text/plain": [
       "------------------------------\n"
      ]
     },
     "metadata": {},
     "output_type": "display_data"
    },
    {
     "data": {
      "text/html": [
       "<pre style=\"white-space:pre;overflow-x:auto;line-height:normal;font-family:Menlo,'DejaVu Sans Mono',consolas,'Courier New',monospace\">Chunk <span style=\"color: #008080; text-decoration-color: #008080; font-weight: bold\">7</span>:\n",
       "</pre>\n"
      ],
      "text/plain": [
       "Chunk \u001b[1;36m7\u001b[0m:\n"
      ]
     },
     "metadata": {},
     "output_type": "display_data"
    },
    {
     "data": {
      "text/html": [
       "<pre style=\"white-space:pre;overflow-x:auto;line-height:normal;font-family:Menlo,'DejaVu Sans Mono',consolas,'Courier New',monospace\">Length: <span style=\"color: #008080; text-decoration-color: #008080; font-weight: bold\">199</span> characters\n",
       "</pre>\n"
      ],
      "text/plain": [
       "Length: \u001b[1;36m199\u001b[0m characters\n"
      ]
     },
     "metadata": {},
     "output_type": "display_data"
    },
    {
     "data": {
      "text/html": [
       "<pre style=\"white-space:pre;overflow-x:auto;line-height:normal;font-family:Menlo,'DejaVu Sans Mono',consolas,'Courier New',monospace\">Content: OpenAI is the company behind ChatGPT, DALL·E, Codex, and a bunch of other frontier AI tech. It started as \n",
       "a non-profit research lab in <span style=\"color: #008080; text-decoration-color: #008080; font-weight: bold\">2015</span> but later became a capped-profit org to scale faster. Their\n",
       "</pre>\n"
      ],
      "text/plain": [
       "Content: OpenAI is the company behind ChatGPT, DALL·E, Codex, and a bunch of other frontier AI tech. It started as \n",
       "a non-profit research lab in \u001b[1;36m2015\u001b[0m but later became a capped-profit org to scale faster. Their\n"
      ]
     },
     "metadata": {},
     "output_type": "display_data"
    },
    {
     "data": {
      "text/html": [
       "<pre style=\"white-space:pre;overflow-x:auto;line-height:normal;font-family:Menlo,'DejaVu Sans Mono',consolas,'Courier New',monospace\">------------------------------\n",
       "</pre>\n"
      ],
      "text/plain": [
       "------------------------------\n"
      ]
     },
     "metadata": {},
     "output_type": "display_data"
    },
    {
     "data": {
      "text/html": [
       "<pre style=\"white-space:pre;overflow-x:auto;line-height:normal;font-family:Menlo,'DejaVu Sans Mono',consolas,'Courier New',monospace\">Chunk <span style=\"color: #008080; text-decoration-color: #008080; font-weight: bold\">8</span>:\n",
       "</pre>\n"
      ],
      "text/plain": [
       "Chunk \u001b[1;36m8\u001b[0m:\n"
      ]
     },
     "metadata": {},
     "output_type": "display_data"
    },
    {
     "data": {
      "text/html": [
       "<pre style=\"white-space:pre;overflow-x:auto;line-height:normal;font-family:Menlo,'DejaVu Sans Mono',consolas,'Courier New',monospace\">Length: <span style=\"color: #008080; text-decoration-color: #008080; font-weight: bold\">197</span> characters\n",
       "</pre>\n"
      ],
      "text/plain": [
       "Length: \u001b[1;36m197\u001b[0m characters\n"
      ]
     },
     "metadata": {},
     "output_type": "display_data"
    },
    {
     "data": {
      "text/html": [
       "<pre style=\"white-space:pre;overflow-x:auto;line-height:normal;font-family:Menlo,'DejaVu Sans Mono',consolas,'Courier New',monospace\">Content: Their mission? To ensure artificial general intelligence <span style=\"font-weight: bold\">(</span>AGI<span style=\"font-weight: bold\">)</span> benefits all of humanity. They've pushed \n",
       "the boundaries with models like GPT-<span style=\"color: #008080; text-decoration-color: #008080; font-weight: bold\">3</span>, GPT-<span style=\"color: #008080; text-decoration-color: #008080; font-weight: bold\">4</span>, and now GPT-4o, which understands text, images,\n",
       "</pre>\n"
      ],
      "text/plain": [
       "Content: Their mission? To ensure artificial general intelligence \u001b[1m(\u001b[0mAGI\u001b[1m)\u001b[0m benefits all of humanity. They've pushed \n",
       "the boundaries with models like GPT-\u001b[1;36m3\u001b[0m, GPT-\u001b[1;36m4\u001b[0m, and now GPT-4o, which understands text, images,\n"
      ]
     },
     "metadata": {},
     "output_type": "display_data"
    },
    {
     "data": {
      "text/html": [
       "<pre style=\"white-space:pre;overflow-x:auto;line-height:normal;font-family:Menlo,'DejaVu Sans Mono',consolas,'Courier New',monospace\">------------------------------\n",
       "</pre>\n"
      ],
      "text/plain": [
       "------------------------------\n"
      ]
     },
     "metadata": {},
     "output_type": "display_data"
    },
    {
     "data": {
      "text/html": [
       "<pre style=\"white-space:pre;overflow-x:auto;line-height:normal;font-family:Menlo,'DejaVu Sans Mono',consolas,'Courier New',monospace\">Chunk <span style=\"color: #008080; text-decoration-color: #008080; font-weight: bold\">9</span>:\n",
       "</pre>\n"
      ],
      "text/plain": [
       "Chunk \u001b[1;36m9\u001b[0m:\n"
      ]
     },
     "metadata": {},
     "output_type": "display_data"
    },
    {
     "data": {
      "text/html": [
       "<pre style=\"white-space:pre;overflow-x:auto;line-height:normal;font-family:Menlo,'DejaVu Sans Mono',consolas,'Courier New',monospace\">Length: <span style=\"color: #008080; text-decoration-color: #008080; font-weight: bold\">190</span> characters\n",
       "</pre>\n"
      ],
      "text/plain": [
       "Length: \u001b[1;36m190\u001b[0m characters\n"
      ]
     },
     "metadata": {},
     "output_type": "display_data"
    },
    {
     "data": {
      "text/html": [
       "<pre style=\"white-space:pre;overflow-x:auto;line-height:normal;font-family:Menlo,'DejaVu Sans Mono',consolas,'Courier New',monospace\">Content: images, and audio. OpenAI also powers products like Microsoft Copilot and ChatGPT Enterprise. While they \n",
       "get love for innovation, they've also stirred debates around AI safety, openness, and\n",
       "</pre>\n"
      ],
      "text/plain": [
       "Content: images, and audio. OpenAI also powers products like Microsoft Copilot and ChatGPT Enterprise. While they \n",
       "get love for innovation, they've also stirred debates around AI safety, openness, and\n"
      ]
     },
     "metadata": {},
     "output_type": "display_data"
    },
    {
     "data": {
      "text/html": [
       "<pre style=\"white-space:pre;overflow-x:auto;line-height:normal;font-family:Menlo,'DejaVu Sans Mono',consolas,'Courier New',monospace\">------------------------------\n",
       "</pre>\n"
      ],
      "text/plain": [
       "------------------------------\n"
      ]
     },
     "metadata": {},
     "output_type": "display_data"
    },
    {
     "data": {
      "text/html": [
       "<pre style=\"white-space:pre;overflow-x:auto;line-height:normal;font-family:Menlo,'DejaVu Sans Mono',consolas,'Courier New',monospace\">Chunk <span style=\"color: #008080; text-decoration-color: #008080; font-weight: bold\">10</span>:\n",
       "</pre>\n"
      ],
      "text/plain": [
       "Chunk \u001b[1;36m10\u001b[0m:\n"
      ]
     },
     "metadata": {},
     "output_type": "display_data"
    },
    {
     "data": {
      "text/html": [
       "<pre style=\"white-space:pre;overflow-x:auto;line-height:normal;font-family:Menlo,'DejaVu Sans Mono',consolas,'Courier New',monospace\">Length: <span style=\"color: #008080; text-decoration-color: #008080; font-weight: bold\">75</span> characters\n",
       "</pre>\n"
      ],
      "text/plain": [
       "Length: \u001b[1;36m75\u001b[0m characters\n"
      ]
     },
     "metadata": {},
     "output_type": "display_data"
    },
    {
     "data": {
      "text/html": [
       "<pre style=\"white-space:pre;overflow-x:auto;line-height:normal;font-family:Menlo,'DejaVu Sans Mono',consolas,'Courier New',monospace\">Content: and commercialization. But no doubt—they’ve shaped the entire AI landscape.\n",
       "</pre>\n"
      ],
      "text/plain": [
       "Content: and commercialization. But no doubt—they’ve shaped the entire AI landscape.\n"
      ]
     },
     "metadata": {},
     "output_type": "display_data"
    },
    {
     "data": {
      "text/html": [
       "<pre style=\"white-space:pre;overflow-x:auto;line-height:normal;font-family:Menlo,'DejaVu Sans Mono',consolas,'Courier New',monospace\">------------------------------\n",
       "</pre>\n"
      ],
      "text/plain": [
       "------------------------------\n"
      ]
     },
     "metadata": {},
     "output_type": "display_data"
    },
    {
     "data": {
      "text/html": [
       "<pre style=\"white-space:pre;overflow-x:auto;line-height:normal;font-family:Menlo,'DejaVu Sans Mono',consolas,'Courier New',monospace\">Chunk <span style=\"color: #008080; text-decoration-color: #008080; font-weight: bold\">11</span>:\n",
       "</pre>\n"
      ],
      "text/plain": [
       "Chunk \u001b[1;36m11\u001b[0m:\n"
      ]
     },
     "metadata": {},
     "output_type": "display_data"
    },
    {
     "data": {
      "text/html": [
       "<pre style=\"white-space:pre;overflow-x:auto;line-height:normal;font-family:Menlo,'DejaVu Sans Mono',consolas,'Courier New',monospace\">Length: <span style=\"color: #008080; text-decoration-color: #008080; font-weight: bold\">10</span> characters\n",
       "</pre>\n"
      ],
      "text/plain": [
       "Length: \u001b[1;36m10\u001b[0m characters\n"
      ]
     },
     "metadata": {},
     "output_type": "display_data"
    },
    {
     "data": {
      "text/html": [
       "<pre style=\"white-space:pre;overflow-x:auto;line-height:normal;font-family:Menlo,'DejaVu Sans Mono',consolas,'Courier New',monospace\">Content: <span style=\"color: #008080; text-decoration-color: #008080; font-weight: bold\">3</span>. Next.js\n",
       "</pre>\n"
      ],
      "text/plain": [
       "Content: \u001b[1;36m3\u001b[0m. Next.js\n"
      ]
     },
     "metadata": {},
     "output_type": "display_data"
    },
    {
     "data": {
      "text/html": [
       "<pre style=\"white-space:pre;overflow-x:auto;line-height:normal;font-family:Menlo,'DejaVu Sans Mono',consolas,'Courier New',monospace\">------------------------------\n",
       "</pre>\n"
      ],
      "text/plain": [
       "------------------------------\n"
      ]
     },
     "metadata": {},
     "output_type": "display_data"
    },
    {
     "data": {
      "text/html": [
       "<pre style=\"white-space:pre;overflow-x:auto;line-height:normal;font-family:Menlo,'DejaVu Sans Mono',consolas,'Courier New',monospace\">Chunk <span style=\"color: #008080; text-decoration-color: #008080; font-weight: bold\">12</span>:\n",
       "</pre>\n"
      ],
      "text/plain": [
       "Chunk \u001b[1;36m12\u001b[0m:\n"
      ]
     },
     "metadata": {},
     "output_type": "display_data"
    },
    {
     "data": {
      "text/html": [
       "<pre style=\"white-space:pre;overflow-x:auto;line-height:normal;font-family:Menlo,'DejaVu Sans Mono',consolas,'Courier New',monospace\">Length: <span style=\"color: #008080; text-decoration-color: #008080; font-weight: bold\">197</span> characters\n",
       "</pre>\n"
      ],
      "text/plain": [
       "Length: \u001b[1;36m197\u001b[0m characters\n"
      ]
     },
     "metadata": {},
     "output_type": "display_data"
    },
    {
     "data": {
      "text/html": [
       "<pre style=\"white-space:pre;overflow-x:auto;line-height:normal;font-family:Menlo,'DejaVu Sans Mono',consolas,'Courier New',monospace\">Content: Next.js is a popular web framework built on top of React, designed to make building modern websites fast \n",
       "and easy. Created by Vercel, it supports server-side rendering <span style=\"font-weight: bold\">(</span>SSR<span style=\"font-weight: bold\">)</span>, static site generation\n",
       "</pre>\n"
      ],
      "text/plain": [
       "Content: Next.js is a popular web framework built on top of React, designed to make building modern websites fast \n",
       "and easy. Created by Vercel, it supports server-side rendering \u001b[1m(\u001b[0mSSR\u001b[1m)\u001b[0m, static site generation\n"
      ]
     },
     "metadata": {},
     "output_type": "display_data"
    },
    {
     "data": {
      "text/html": [
       "<pre style=\"white-space:pre;overflow-x:auto;line-height:normal;font-family:Menlo,'DejaVu Sans Mono',consolas,'Courier New',monospace\">------------------------------\n",
       "</pre>\n"
      ],
      "text/plain": [
       "------------------------------\n"
      ]
     },
     "metadata": {},
     "output_type": "display_data"
    },
    {
     "data": {
      "text/html": [
       "<pre style=\"white-space:pre;overflow-x:auto;line-height:normal;font-family:Menlo,'DejaVu Sans Mono',consolas,'Courier New',monospace\">Chunk <span style=\"color: #008080; text-decoration-color: #008080; font-weight: bold\">13</span>:\n",
       "</pre>\n"
      ],
      "text/plain": [
       "Chunk \u001b[1;36m13\u001b[0m:\n"
      ]
     },
     "metadata": {},
     "output_type": "display_data"
    },
    {
     "data": {
      "text/html": [
       "<pre style=\"white-space:pre;overflow-x:auto;line-height:normal;font-family:Menlo,'DejaVu Sans Mono',consolas,'Courier New',monospace\">Length: <span style=\"color: #008080; text-decoration-color: #008080; font-weight: bold\">198</span> characters\n",
       "</pre>\n"
      ],
      "text/plain": [
       "Length: \u001b[1;36m198\u001b[0m characters\n"
      ]
     },
     "metadata": {},
     "output_type": "display_data"
    },
    {
     "data": {
      "text/html": [
       "<pre style=\"white-space:pre;overflow-x:auto;line-height:normal;font-family:Menlo,'DejaVu Sans Mono',consolas,'Courier New',monospace\">Content: <span style=\"font-weight: bold\">(</span>SSG<span style=\"font-weight: bold\">)</span>, and incremental static regeneration <span style=\"font-weight: bold\">(</span>ISR<span style=\"font-weight: bold\">)</span>, which means you get performance and flexibility. It’s \n",
       "perfect for SEO-friendly sites, dashboards, e-commerce, and basically any fullstack app with a\n",
       "</pre>\n"
      ],
      "text/plain": [
       "Content: \u001b[1m(\u001b[0mSSG\u001b[1m)\u001b[0m, and incremental static regeneration \u001b[1m(\u001b[0mISR\u001b[1m)\u001b[0m, which means you get performance and flexibility. It’s \n",
       "perfect for SEO-friendly sites, dashboards, e-commerce, and basically any fullstack app with a\n"
      ]
     },
     "metadata": {},
     "output_type": "display_data"
    },
    {
     "data": {
      "text/html": [
       "<pre style=\"white-space:pre;overflow-x:auto;line-height:normal;font-family:Menlo,'DejaVu Sans Mono',consolas,'Courier New',monospace\">------------------------------\n",
       "</pre>\n"
      ],
      "text/plain": [
       "------------------------------\n"
      ]
     },
     "metadata": {},
     "output_type": "display_data"
    },
    {
     "data": {
      "text/html": [
       "<pre style=\"white-space:pre;overflow-x:auto;line-height:normal;font-family:Menlo,'DejaVu Sans Mono',consolas,'Courier New',monospace\">Chunk <span style=\"color: #008080; text-decoration-color: #008080; font-weight: bold\">14</span>:\n",
       "</pre>\n"
      ],
      "text/plain": [
       "Chunk \u001b[1;36m14\u001b[0m:\n"
      ]
     },
     "metadata": {},
     "output_type": "display_data"
    },
    {
     "data": {
      "text/html": [
       "<pre style=\"white-space:pre;overflow-x:auto;line-height:normal;font-family:Menlo,'DejaVu Sans Mono',consolas,'Courier New',monospace\">Length: <span style=\"color: #008080; text-decoration-color: #008080; font-weight: bold\">198</span> characters\n",
       "</pre>\n"
      ],
      "text/plain": [
       "Length: \u001b[1;36m198\u001b[0m characters\n"
      ]
     },
     "metadata": {},
     "output_type": "display_data"
    },
    {
     "data": {
      "text/html": [
       "<pre style=\"white-space:pre;overflow-x:auto;line-height:normal;font-family:Menlo,'DejaVu Sans Mono',consolas,'Courier New',monospace\">Content: with a great dev experience. With built-in routing, image optimization, and API routes, it removes a lot \n",
       "of the boilerplate. Plus, it integrates smoothly with TypeScript and Tailwind. It’s the go-to\n",
       "</pre>\n"
      ],
      "text/plain": [
       "Content: with a great dev experience. With built-in routing, image optimization, and API routes, it removes a lot \n",
       "of the boilerplate. Plus, it integrates smoothly with TypeScript and Tailwind. It’s the go-to\n"
      ]
     },
     "metadata": {},
     "output_type": "display_data"
    },
    {
     "data": {
      "text/html": [
       "<pre style=\"white-space:pre;overflow-x:auto;line-height:normal;font-family:Menlo,'DejaVu Sans Mono',consolas,'Courier New',monospace\">------------------------------\n",
       "</pre>\n"
      ],
      "text/plain": [
       "------------------------------\n"
      ]
     },
     "metadata": {},
     "output_type": "display_data"
    },
    {
     "data": {
      "text/html": [
       "<pre style=\"white-space:pre;overflow-x:auto;line-height:normal;font-family:Menlo,'DejaVu Sans Mono',consolas,'Courier New',monospace\">Chunk <span style=\"color: #008080; text-decoration-color: #008080; font-weight: bold\">15</span>:\n",
       "</pre>\n"
      ],
      "text/plain": [
       "Chunk \u001b[1;36m15\u001b[0m:\n"
      ]
     },
     "metadata": {},
     "output_type": "display_data"
    },
    {
     "data": {
      "text/html": [
       "<pre style=\"white-space:pre;overflow-x:auto;line-height:normal;font-family:Menlo,'DejaVu Sans Mono',consolas,'Courier New',monospace\">Length: <span style=\"color: #008080; text-decoration-color: #008080; font-weight: bold\">59</span> characters\n",
       "</pre>\n"
      ],
      "text/plain": [
       "Length: \u001b[1;36m59\u001b[0m characters\n"
      ]
     },
     "metadata": {},
     "output_type": "display_data"
    },
    {
     "data": {
      "text/html": [
       "<pre style=\"white-space:pre;overflow-x:auto;line-height:normal;font-family:Menlo,'DejaVu Sans Mono',consolas,'Courier New',monospace\">Content: the go-to stack for a lot of startups and indie devs alike.\n",
       "</pre>\n"
      ],
      "text/plain": [
       "Content: the go-to stack for a lot of startups and indie devs alike.\n"
      ]
     },
     "metadata": {},
     "output_type": "display_data"
    },
    {
     "data": {
      "text/html": [
       "<pre style=\"white-space:pre;overflow-x:auto;line-height:normal;font-family:Menlo,'DejaVu Sans Mono',consolas,'Courier New',monospace\">------------------------------\n",
       "</pre>\n"
      ],
      "text/plain": [
       "------------------------------\n"
      ]
     },
     "metadata": {},
     "output_type": "display_data"
    },
    {
     "data": {
      "text/html": [
       "<pre style=\"white-space:pre;overflow-x:auto;line-height:normal;font-family:Menlo,'DejaVu Sans Mono',consolas,'Courier New',monospace\">Chunk <span style=\"color: #008080; text-decoration-color: #008080; font-weight: bold\">16</span>:\n",
       "</pre>\n"
      ],
      "text/plain": [
       "Chunk \u001b[1;36m16\u001b[0m:\n"
      ]
     },
     "metadata": {},
     "output_type": "display_data"
    },
    {
     "data": {
      "text/html": [
       "<pre style=\"white-space:pre;overflow-x:auto;line-height:normal;font-family:Menlo,'DejaVu Sans Mono',consolas,'Courier New',monospace\">Length: <span style=\"color: #008080; text-decoration-color: #008080; font-weight: bold\">7</span> characters\n",
       "</pre>\n"
      ],
      "text/plain": [
       "Length: \u001b[1;36m7\u001b[0m characters\n"
      ]
     },
     "metadata": {},
     "output_type": "display_data"
    },
    {
     "data": {
      "text/html": [
       "<pre style=\"white-space:pre;overflow-x:auto;line-height:normal;font-family:Menlo,'DejaVu Sans Mono',consolas,'Courier New',monospace\">Content: <span style=\"color: #008080; text-decoration-color: #008080; font-weight: bold\">4</span>. Love\n",
       "</pre>\n"
      ],
      "text/plain": [
       "Content: \u001b[1;36m4\u001b[0m. Love\n"
      ]
     },
     "metadata": {},
     "output_type": "display_data"
    },
    {
     "data": {
      "text/html": [
       "<pre style=\"white-space:pre;overflow-x:auto;line-height:normal;font-family:Menlo,'DejaVu Sans Mono',consolas,'Courier New',monospace\">------------------------------\n",
       "</pre>\n"
      ],
      "text/plain": [
       "------------------------------\n"
      ]
     },
     "metadata": {},
     "output_type": "display_data"
    },
    {
     "data": {
      "text/html": [
       "<pre style=\"white-space:pre;overflow-x:auto;line-height:normal;font-family:Menlo,'DejaVu Sans Mono',consolas,'Courier New',monospace\">Chunk <span style=\"color: #008080; text-decoration-color: #008080; font-weight: bold\">17</span>:\n",
       "</pre>\n"
      ],
      "text/plain": [
       "Chunk \u001b[1;36m17\u001b[0m:\n"
      ]
     },
     "metadata": {},
     "output_type": "display_data"
    },
    {
     "data": {
      "text/html": [
       "<pre style=\"white-space:pre;overflow-x:auto;line-height:normal;font-family:Menlo,'DejaVu Sans Mono',consolas,'Courier New',monospace\">Length: <span style=\"color: #008080; text-decoration-color: #008080; font-weight: bold\">196</span> characters\n",
       "</pre>\n"
      ],
      "text/plain": [
       "Length: \u001b[1;36m196\u001b[0m characters\n"
      ]
     },
     "metadata": {},
     "output_type": "display_data"
    },
    {
     "data": {
      "text/html": [
       "<pre style=\"white-space:pre;overflow-x:auto;line-height:normal;font-family:Menlo,'DejaVu Sans Mono',consolas,'Courier New',monospace\">Content: Love is messy, chaotic, grounding, euphoric, terrifying, and everything in between. It’s more than \n",
       "butterflies—it's showing up, staying curious, and being vulnerable. Romantic or platonic, love is\n",
       "</pre>\n"
      ],
      "text/plain": [
       "Content: Love is messy, chaotic, grounding, euphoric, terrifying, and everything in between. It’s more than \n",
       "butterflies—it's showing up, staying curious, and being vulnerable. Romantic or platonic, love is\n"
      ]
     },
     "metadata": {},
     "output_type": "display_data"
    },
    {
     "data": {
      "text/html": [
       "<pre style=\"white-space:pre;overflow-x:auto;line-height:normal;font-family:Menlo,'DejaVu Sans Mono',consolas,'Courier New',monospace\">------------------------------\n",
       "</pre>\n"
      ],
      "text/plain": [
       "------------------------------\n"
      ]
     },
     "metadata": {},
     "output_type": "display_data"
    },
    {
     "data": {
      "text/html": [
       "<pre style=\"white-space:pre;overflow-x:auto;line-height:normal;font-family:Menlo,'DejaVu Sans Mono',consolas,'Courier New',monospace\">Chunk <span style=\"color: #008080; text-decoration-color: #008080; font-weight: bold\">18</span>:\n",
       "</pre>\n"
      ],
      "text/plain": [
       "Chunk \u001b[1;36m18\u001b[0m:\n"
      ]
     },
     "metadata": {},
     "output_type": "display_data"
    },
    {
     "data": {
      "text/html": [
       "<pre style=\"white-space:pre;overflow-x:auto;line-height:normal;font-family:Menlo,'DejaVu Sans Mono',consolas,'Courier New',monospace\">Length: <span style=\"color: #008080; text-decoration-color: #008080; font-weight: bold\">196</span> characters\n",
       "</pre>\n"
      ],
      "text/plain": [
       "Length: \u001b[1;36m196\u001b[0m characters\n"
      ]
     },
     "metadata": {},
     "output_type": "display_data"
    },
    {
     "data": {
      "text/html": [
       "<pre style=\"white-space:pre;overflow-x:auto;line-height:normal;font-family:Menlo,'DejaVu Sans Mono',consolas,'Courier New',monospace\">Content: love is that quiet comfort of being seen and still accepted. It’s late-night talks, shared playlists, \n",
       "holding space, and growing together <span style=\"font-weight: bold\">(</span>or apart, sometimes<span style=\"font-weight: bold\">)</span>. Love isn’t just words; it’s action.\n",
       "</pre>\n"
      ],
      "text/plain": [
       "Content: love is that quiet comfort of being seen and still accepted. It’s late-night talks, shared playlists, \n",
       "holding space, and growing together \u001b[1m(\u001b[0mor apart, sometimes\u001b[1m)\u001b[0m. Love isn’t just words; it’s action.\n"
      ]
     },
     "metadata": {},
     "output_type": "display_data"
    },
    {
     "data": {
      "text/html": [
       "<pre style=\"white-space:pre;overflow-x:auto;line-height:normal;font-family:Menlo,'DejaVu Sans Mono',consolas,'Courier New',monospace\">------------------------------\n",
       "</pre>\n"
      ],
      "text/plain": [
       "------------------------------\n"
      ]
     },
     "metadata": {},
     "output_type": "display_data"
    },
    {
     "data": {
      "text/html": [
       "<pre style=\"white-space:pre;overflow-x:auto;line-height:normal;font-family:Menlo,'DejaVu Sans Mono',consolas,'Courier New',monospace\">Chunk <span style=\"color: #008080; text-decoration-color: #008080; font-weight: bold\">19</span>:\n",
       "</pre>\n"
      ],
      "text/plain": [
       "Chunk \u001b[1;36m19\u001b[0m:\n"
      ]
     },
     "metadata": {},
     "output_type": "display_data"
    },
    {
     "data": {
      "text/html": [
       "<pre style=\"white-space:pre;overflow-x:auto;line-height:normal;font-family:Menlo,'DejaVu Sans Mono',consolas,'Courier New',monospace\">Length: <span style=\"color: #008080; text-decoration-color: #008080; font-weight: bold\">194</span> characters\n",
       "</pre>\n"
      ],
      "text/plain": [
       "Length: \u001b[1;36m194\u001b[0m characters\n"
      ]
     },
     "metadata": {},
     "output_type": "display_data"
    },
    {
     "data": {
      "text/html": [
       "<pre style=\"white-space:pre;overflow-x:auto;line-height:normal;font-family:Menlo,'DejaVu Sans Mono',consolas,'Courier New',monospace\">Content: action. And it changes us—shakes our ego, softens our armor. In a world full of noise and distraction, \n",
       "genuine love feels like a rare signal, something we don’t fully understand but keep chasing\n",
       "</pre>\n"
      ],
      "text/plain": [
       "Content: action. And it changes us—shakes our ego, softens our armor. In a world full of noise and distraction, \n",
       "genuine love feels like a rare signal, something we don’t fully understand but keep chasing\n"
      ]
     },
     "metadata": {},
     "output_type": "display_data"
    },
    {
     "data": {
      "text/html": [
       "<pre style=\"white-space:pre;overflow-x:auto;line-height:normal;font-family:Menlo,'DejaVu Sans Mono',consolas,'Courier New',monospace\">------------------------------\n",
       "</pre>\n"
      ],
      "text/plain": [
       "------------------------------\n"
      ]
     },
     "metadata": {},
     "output_type": "display_data"
    },
    {
     "data": {
      "text/html": [
       "<pre style=\"white-space:pre;overflow-x:auto;line-height:normal;font-family:Menlo,'DejaVu Sans Mono',consolas,'Courier New',monospace\">Chunk <span style=\"color: #008080; text-decoration-color: #008080; font-weight: bold\">20</span>:\n",
       "</pre>\n"
      ],
      "text/plain": [
       "Chunk \u001b[1;36m20\u001b[0m:\n"
      ]
     },
     "metadata": {},
     "output_type": "display_data"
    },
    {
     "data": {
      "text/html": [
       "<pre style=\"white-space:pre;overflow-x:auto;line-height:normal;font-family:Menlo,'DejaVu Sans Mono',consolas,'Courier New',monospace\">Length: <span style=\"color: #008080; text-decoration-color: #008080; font-weight: bold\">49</span> characters\n",
       "</pre>\n"
      ],
      "text/plain": [
       "Length: \u001b[1;36m49\u001b[0m characters\n"
      ]
     },
     "metadata": {},
     "output_type": "display_data"
    },
    {
     "data": {
      "text/html": [
       "<pre style=\"white-space:pre;overflow-x:auto;line-height:normal;font-family:Menlo,'DejaVu Sans Mono',consolas,'Courier New',monospace\">Content: chasing anyway. And maybe that’s the whole point.\n",
       "</pre>\n"
      ],
      "text/plain": [
       "Content: chasing anyway. And maybe that’s the whole point.\n"
      ]
     },
     "metadata": {},
     "output_type": "display_data"
    },
    {
     "data": {
      "text/html": [
       "<pre style=\"white-space:pre;overflow-x:auto;line-height:normal;font-family:Menlo,'DejaVu Sans Mono',consolas,'Courier New',monospace\">------------------------------\n",
       "</pre>\n"
      ],
      "text/plain": [
       "------------------------------\n"
      ]
     },
     "metadata": {},
     "output_type": "display_data"
    },
    {
     "data": {
      "text/html": [
       "<pre style=\"white-space:pre;overflow-x:auto;line-height:normal;font-family:Menlo,'DejaVu Sans Mono',consolas,'Courier New',monospace\">Chunk <span style=\"color: #008080; text-decoration-color: #008080; font-weight: bold\">21</span>:\n",
       "</pre>\n"
      ],
      "text/plain": [
       "Chunk \u001b[1;36m21\u001b[0m:\n"
      ]
     },
     "metadata": {},
     "output_type": "display_data"
    },
    {
     "data": {
      "text/html": [
       "<pre style=\"white-space:pre;overflow-x:auto;line-height:normal;font-family:Menlo,'DejaVu Sans Mono',consolas,'Courier New',monospace\">Length: <span style=\"color: #008080; text-decoration-color: #008080; font-weight: bold\">6</span> characters\n",
       "</pre>\n"
      ],
      "text/plain": [
       "Length: \u001b[1;36m6\u001b[0m characters\n"
      ]
     },
     "metadata": {},
     "output_type": "display_data"
    },
    {
     "data": {
      "text/html": [
       "<pre style=\"white-space:pre;overflow-x:auto;line-height:normal;font-family:Menlo,'DejaVu Sans Mono',consolas,'Courier New',monospace\">Content: <span style=\"color: #008080; text-decoration-color: #008080; font-weight: bold\">5</span>. Gym\n",
       "</pre>\n"
      ],
      "text/plain": [
       "Content: \u001b[1;36m5\u001b[0m. Gym\n"
      ]
     },
     "metadata": {},
     "output_type": "display_data"
    },
    {
     "data": {
      "text/html": [
       "<pre style=\"white-space:pre;overflow-x:auto;line-height:normal;font-family:Menlo,'DejaVu Sans Mono',consolas,'Courier New',monospace\">------------------------------\n",
       "</pre>\n"
      ],
      "text/plain": [
       "------------------------------\n"
      ]
     },
     "metadata": {},
     "output_type": "display_data"
    },
    {
     "data": {
      "text/html": [
       "<pre style=\"white-space:pre;overflow-x:auto;line-height:normal;font-family:Menlo,'DejaVu Sans Mono',consolas,'Courier New',monospace\">Chunk <span style=\"color: #008080; text-decoration-color: #008080; font-weight: bold\">22</span>:\n",
       "</pre>\n"
      ],
      "text/plain": [
       "Chunk \u001b[1;36m22\u001b[0m:\n"
      ]
     },
     "metadata": {},
     "output_type": "display_data"
    },
    {
     "data": {
      "text/html": [
       "<pre style=\"white-space:pre;overflow-x:auto;line-height:normal;font-family:Menlo,'DejaVu Sans Mono',consolas,'Courier New',monospace\">Length: <span style=\"color: #008080; text-decoration-color: #008080; font-weight: bold\">197</span> characters\n",
       "</pre>\n"
      ],
      "text/plain": [
       "Length: \u001b[1;36m197\u001b[0m characters\n"
      ]
     },
     "metadata": {},
     "output_type": "display_data"
    },
    {
     "data": {
      "text/html": [
       "<pre style=\"white-space:pre;overflow-x:auto;line-height:normal;font-family:Menlo,'DejaVu Sans Mono',consolas,'Courier New',monospace\">Content: The gym is more than a place to get fit—it’s therapy, routine, and discipline all rolled into one. Whether\n",
       "you’re lifting, running, or stretching, it’s a space where effort translates directly into\n",
       "</pre>\n"
      ],
      "text/plain": [
       "Content: The gym is more than a place to get fit—it’s therapy, routine, and discipline all rolled into one. Whether\n",
       "you’re lifting, running, or stretching, it’s a space where effort translates directly into\n"
      ]
     },
     "metadata": {},
     "output_type": "display_data"
    },
    {
     "data": {
      "text/html": [
       "<pre style=\"white-space:pre;overflow-x:auto;line-height:normal;font-family:Menlo,'DejaVu Sans Mono',consolas,'Courier New',monospace\">------------------------------\n",
       "</pre>\n"
      ],
      "text/plain": [
       "------------------------------\n"
      ]
     },
     "metadata": {},
     "output_type": "display_data"
    },
    {
     "data": {
      "text/html": [
       "<pre style=\"white-space:pre;overflow-x:auto;line-height:normal;font-family:Menlo,'DejaVu Sans Mono',consolas,'Courier New',monospace\">Chunk <span style=\"color: #008080; text-decoration-color: #008080; font-weight: bold\">23</span>:\n",
       "</pre>\n"
      ],
      "text/plain": [
       "Chunk \u001b[1;36m23\u001b[0m:\n"
      ]
     },
     "metadata": {},
     "output_type": "display_data"
    },
    {
     "data": {
      "text/html": [
       "<pre style=\"white-space:pre;overflow-x:auto;line-height:normal;font-family:Menlo,'DejaVu Sans Mono',consolas,'Courier New',monospace\">Length: <span style=\"color: #008080; text-decoration-color: #008080; font-weight: bold\">199</span> characters\n",
       "</pre>\n"
      ],
      "text/plain": [
       "Length: \u001b[1;36m199\u001b[0m characters\n"
      ]
     },
     "metadata": {},
     "output_type": "display_data"
    },
    {
     "data": {
      "text/html": [
       "<pre style=\"white-space:pre;overflow-x:auto;line-height:normal;font-family:Menlo,'DejaVu Sans Mono',consolas,'Courier New',monospace\">Content: into progress. You show up tired, stressed, maybe anxious—but leave a bit stronger, both mentally and \n",
       "physically. It’s a reminder that growth takes time and consistency. And yeah, the gains are nice,\n",
       "</pre>\n"
      ],
      "text/plain": [
       "Content: into progress. You show up tired, stressed, maybe anxious—but leave a bit stronger, both mentally and \n",
       "physically. It’s a reminder that growth takes time and consistency. And yeah, the gains are nice,\n"
      ]
     },
     "metadata": {},
     "output_type": "display_data"
    },
    {
     "data": {
      "text/html": [
       "<pre style=\"white-space:pre;overflow-x:auto;line-height:normal;font-family:Menlo,'DejaVu Sans Mono',consolas,'Courier New',monospace\">------------------------------\n",
       "</pre>\n"
      ],
      "text/plain": [
       "------------------------------\n"
      ]
     },
     "metadata": {},
     "output_type": "display_data"
    },
    {
     "data": {
      "text/html": [
       "<pre style=\"white-space:pre;overflow-x:auto;line-height:normal;font-family:Menlo,'DejaVu Sans Mono',consolas,'Courier New',monospace\">Chunk <span style=\"color: #008080; text-decoration-color: #008080; font-weight: bold\">24</span>:\n",
       "</pre>\n"
      ],
      "text/plain": [
       "Chunk \u001b[1;36m24\u001b[0m:\n"
      ]
     },
     "metadata": {},
     "output_type": "display_data"
    },
    {
     "data": {
      "text/html": [
       "<pre style=\"white-space:pre;overflow-x:auto;line-height:normal;font-family:Menlo,'DejaVu Sans Mono',consolas,'Courier New',monospace\">Length: <span style=\"color: #008080; text-decoration-color: #008080; font-weight: bold\">187</span> characters\n",
       "</pre>\n"
      ],
      "text/plain": [
       "Length: \u001b[1;36m187\u001b[0m characters\n"
      ]
     },
     "metadata": {},
     "output_type": "display_data"
    },
    {
     "data": {
      "text/html": [
       "<pre style=\"white-space:pre;overflow-x:auto;line-height:normal;font-family:Menlo,'DejaVu Sans Mono',consolas,'Courier New',monospace\">Content: are nice, but the confidence and mental clarity hit even harder. Some days it’s a grind, other days it’s \n",
       "euphoric. Either way, it teaches you to push past limits. No shortcuts, just reps.\n",
       "</pre>\n"
      ],
      "text/plain": [
       "Content: are nice, but the confidence and mental clarity hit even harder. Some days it’s a grind, other days it’s \n",
       "euphoric. Either way, it teaches you to push past limits. No shortcuts, just reps.\n"
      ]
     },
     "metadata": {},
     "output_type": "display_data"
    },
    {
     "data": {
      "text/html": [
       "<pre style=\"white-space:pre;overflow-x:auto;line-height:normal;font-family:Menlo,'DejaVu Sans Mono',consolas,'Courier New',monospace\">------------------------------\n",
       "</pre>\n"
      ],
      "text/plain": [
       "------------------------------\n"
      ]
     },
     "metadata": {},
     "output_type": "display_data"
    }
   ],
   "source": [
    "from langchain_text_splitters import RecursiveCharacterTextSplitter\n",
    "from rich import print\n",
    "\n",
    "text_splitter = RecursiveCharacterTextSplitter(\n",
    "    chunk_size=200,  # Size in characters\n",
    "    chunk_overlap=10,  # Overlap between chunks\n",
    ")\n",
    "\n",
    "chunks = text_splitter.split_text(document)\n",
    "\n",
    "print(f\"Total number of chunks: {len(chunks)}\")\n",
    "\n",
    "for i, chunk in enumerate(chunks):\n",
    "    print(f\"Chunk {i+1}:\")\n",
    "    print(f\"Length: {len(chunk)} characters\")\n",
    "    print(f\"Content: {chunk}\")\n",
    "    print(\"-\"*30)"
   ]
  }
 ],
 "metadata": {
  "kernelspec": {
   "display_name": ".venv",
   "language": "python",
   "name": "python3"
  },
  "language_info": {
   "codemirror_mode": {
    "name": "ipython",
    "version": 3
   },
   "file_extension": ".py",
   "mimetype": "text/x-python",
   "name": "python",
   "nbconvert_exporter": "python",
   "pygments_lexer": "ipython3",
   "version": "3.13.4"
  }
 },
 "nbformat": 4,
 "nbformat_minor": 2
}
