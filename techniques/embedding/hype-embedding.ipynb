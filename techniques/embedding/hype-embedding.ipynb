{
 "cells": [
  {
   "cell_type": "code",
   "execution_count": 39,
   "metadata": {},
   "outputs": [
    {
     "name": "stdout",
     "output_type": "stream",
     "text": [
      "Note: you may need to restart the kernel to use updated packages.\n"
     ]
    }
   ],
   "source": [
    "%pip install -qU langchain langchain-openai python-dotenv rich langchain_postgres langchain_community beautifulsoup4 langchain_experimental \"psycopg[binary]\""
   ]
  },
  {
   "cell_type": "code",
   "execution_count": 51,
   "metadata": {},
   "outputs": [
    {
     "data": {
      "text/plain": [
       "True"
      ]
     },
     "execution_count": 51,
     "metadata": {},
     "output_type": "execute_result"
    }
   ],
   "source": [
    "from dotenv import load_dotenv\n",
    "\n",
    "load_dotenv(override=True)"
   ]
  },
  {
   "cell_type": "code",
   "execution_count": 57,
   "metadata": {},
   "outputs": [
    {
     "data": {
      "text/html": [
       "<pre style=\"white-space:pre;overflow-x:auto;line-height:normal;font-family:Menlo,'DejaVu Sans Mono',consolas,'Courier New',monospace\">✅ DATABASE_URL found: postgresql+psycopg:<span style=\"color: #800080; text-decoration-color: #800080\">/</span><span style=\"color: #ff00ff; text-decoration-color: #ff00ff\">...</span>\n",
       "</pre>\n"
      ],
      "text/plain": [
       "✅ DATABASE_URL found: postgresql+psycopg:\u001b[35m/\u001b[0m\u001b[95m...\u001b[0m\n"
      ]
     },
     "metadata": {},
     "output_type": "display_data"
    }
   ],
   "source": [
    "import os\n",
    "database_url = os.getenv(\"DATABASE_URL\")\n",
    "if not database_url:\n",
    "    print(\"⚠️  DATABASE_URL not found in environment variables.\")\n",
    "else:\n",
    "    print(f\"✅ DATABASE_URL found: {database_url[:20]}...\")  # Show first 20 chars for privacy\n"
   ]
  },
  {
   "cell_type": "code",
   "execution_count": 85,
   "metadata": {},
   "outputs": [],
   "source": [
    "from langchain_openai import ChatOpenAI, OpenAIEmbeddings\n",
    "\n",
    "embeddings = OpenAIEmbeddings(model=\"text-embedding-3-small\")\n",
    "chat_model = ChatOpenAI(model=\"o4-mini\")"
   ]
  },
  {
   "cell_type": "code",
   "execution_count": 54,
   "metadata": {},
   "outputs": [
    {
     "data": {
      "text/html": [
       "<pre style=\"white-space:pre;overflow-x:auto;line-height:normal;font-family:Menlo,'DejaVu Sans Mono',consolas,'Courier New',monospace\">IntroductionOn this pageIntroduction\n",
       "LangChain is a framework for developing applications powered by large language models <span style=\"font-weight: bold\">(</span>LLMs<span style=\"font-weight: bold\">)</span>.\n",
       "LangChain simplifies every stage of the LLM application lifecycle:\n",
       "\n",
       "Development: Build your applications using LangChain's open-source components and third-party integrations.\n",
       "Use LangGraph to build stateful agents with first-class streaming and human-in-the-loop support.\n",
       "Productionization: Use LangSmith to inspect, monitor and evaluate your applications, so that you\n",
       "</pre>\n"
      ],
      "text/plain": [
       "IntroductionOn this pageIntroduction\n",
       "LangChain is a framework for developing applications powered by large language models \u001b[1m(\u001b[0mLLMs\u001b[1m)\u001b[0m.\n",
       "LangChain simplifies every stage of the LLM application lifecycle:\n",
       "\n",
       "Development: Build your applications using LangChain's open-source components and third-party integrations.\n",
       "Use LangGraph to build stateful agents with first-class streaming and human-in-the-loop support.\n",
       "Productionization: Use LangSmith to inspect, monitor and evaluate your applications, so that you\n"
      ]
     },
     "metadata": {},
     "output_type": "display_data"
    }
   ],
   "source": [
    "import bs4\n",
    "from rich import print\n",
    "from langchain_community.document_loaders import WebBaseLoader\n",
    "from langchain_experimental.text_splitter import SemanticChunker\n",
    "\n",
    "# Load and chunk contents of the documentation\n",
    "loader = WebBaseLoader(\n",
    "    web_paths=(\"https://python.langchain.com/docs/introduction/\",),\n",
    "    bs_kwargs=dict(parse_only=bs4.SoupStrainer(name=\"article\")),\n",
    ")\n",
    "document = loader.load()\n",
    "print(document[0].page_content[:500])"
   ]
  },
  {
   "cell_type": "code",
   "execution_count": 55,
   "metadata": {},
   "outputs": [
    {
     "data": {
      "text/html": [
       "<pre style=\"white-space:pre;overflow-x:auto;line-height:normal;font-family:Menlo,'DejaVu Sans Mono',consolas,'Courier New',monospace\"><span style=\"color: #800080; text-decoration-color: #800080; font-weight: bold\">Document</span><span style=\"font-weight: bold\">(</span>\n",
       "    <span style=\"color: #808000; text-decoration-color: #808000\">metadata</span>=<span style=\"font-weight: bold\">{</span><span style=\"color: #008000; text-decoration-color: #008000\">'source'</span>: <span style=\"color: #008000; text-decoration-color: #008000\">'https://python.langchain.com/docs/introduction/'</span><span style=\"font-weight: bold\">}</span>,\n",
       "    <span style=\"color: #808000; text-decoration-color: #808000\">page_content</span>=<span style=\"color: #008000; text-decoration-color: #008000\">\"IntroductionOn this pageIntroduction\\nLangChain is a framework for developing applications </span>\n",
       "<span style=\"color: #008000; text-decoration-color: #008000\">powered by large language models (LLMs). LangChain simplifies every stage of the LLM application </span>\n",
       "<span style=\"color: #008000; text-decoration-color: #008000\">lifecycle:\\n\\nDevelopment: Build your applications using LangChain's open-source components and third-party </span>\n",
       "<span style=\"color: #008000; text-decoration-color: #008000\">integrations. Use LangGraph to build stateful agents with first-class streaming and human-in-the-loop support. </span>\n",
       "<span style=\"color: #008000; text-decoration-color: #008000\">Productionization: Use LangSmith to inspect, monitor and evaluate your applications, so that you can continuously </span>\n",
       "<span style=\"color: #008000; text-decoration-color: #008000\">optimize and deploy with confidence. Deployment: Turn your LangGraph applications into production-ready APIs and </span>\n",
       "<span style=\"color: #008000; text-decoration-color: #008000\">Assistants with LangGraph Platform. LangChain implements a standard interface for large language models and </span>\n",
       "<span style=\"color: #008000; text-decoration-color: #008000\">related\\ntechnologies, such as embedding models and vector stores, and integrates with\\nhundreds of providers.\"</span>\n",
       "<span style=\"font-weight: bold\">)</span>\n",
       "</pre>\n"
      ],
      "text/plain": [
       "\u001b[1;35mDocument\u001b[0m\u001b[1m(\u001b[0m\n",
       "    \u001b[33mmetadata\u001b[0m=\u001b[1m{\u001b[0m\u001b[32m'source'\u001b[0m: \u001b[32m'https://python.langchain.com/docs/introduction/'\u001b[0m\u001b[1m}\u001b[0m,\n",
       "    \u001b[33mpage_content\u001b[0m=\u001b[32m\"IntroductionOn\u001b[0m\u001b[32m this pageIntroduction\\nLangChain is a framework for developing applications \u001b[0m\n",
       "\u001b[32mpowered by large language models \u001b[0m\u001b[32m(\u001b[0m\u001b[32mLLMs\u001b[0m\u001b[32m)\u001b[0m\u001b[32m. LangChain simplifies every stage of the LLM application \u001b[0m\n",
       "\u001b[32mlifecycle:\\n\\nDevelopment: Build your applications using LangChain's open-source components and third-party \u001b[0m\n",
       "\u001b[32mintegrations. Use LangGraph to build stateful agents with first-class streaming and human-in-the-loop support. \u001b[0m\n",
       "\u001b[32mProductionization: Use LangSmith to inspect, monitor and evaluate your applications, so that you can continuously \u001b[0m\n",
       "\u001b[32moptimize and deploy with confidence. Deployment: Turn your LangGraph applications into production-ready APIs and \u001b[0m\n",
       "\u001b[32mAssistants with LangGraph Platform. LangChain implements a standard interface for large language models and \u001b[0m\n",
       "\u001b[32mrelated\\ntechnologies, such as embedding models and vector stores, and integrates with\\nhundreds of providers.\"\u001b[0m\n",
       "\u001b[1m)\u001b[0m\n"
      ]
     },
     "metadata": {},
     "output_type": "display_data"
    }
   ],
   "source": [
    "# Semantic Chunking\n",
    "text_splitter = SemanticChunker(embeddings=embeddings, breakpoint_threshold_type=\"interquartile\")\n",
    "chunks = text_splitter.split_documents(document)\n",
    "print(chunks[0])"
   ]
  },
  {
   "cell_type": "code",
   "execution_count": 56,
   "metadata": {},
   "outputs": [
    {
     "data": {
      "text/html": [
       "<pre style=\"white-space:pre;overflow-x:auto;line-height:normal;font-family:Menlo,'DejaVu Sans Mono',consolas,'Courier New',monospace\">Added <span style=\"color: #008080; text-decoration-color: #008080; font-weight: bold\">4</span> documents to the vector store\n",
       "</pre>\n"
      ],
      "text/plain": [
       "Added \u001b[1;36m4\u001b[0m documents to the vector store\n"
      ]
     },
     "metadata": {},
     "output_type": "display_data"
    }
   ],
   "source": [
    "from langchain_postgres import PGVector\n",
    "import os\n",
    "\n",
    "vector_store = PGVector(\n",
    "    embeddings=embeddings,\n",
    "    collection_name=\"my_docs\",\n",
    "    connection=os.getenv(\"DATABASE_URL\"),\n",
    "    create_extension=True,\n",
    ")\n",
    "\n",
    "vector_store.add_documents(documents=chunks)\n",
    "print(f\"Added {len(chunks)} documents to the vector store\")"
   ]
  },
  {
   "cell_type": "code",
   "execution_count": 89,
   "metadata": {},
   "outputs": [
    {
     "data": {
      "text/plain": [
       "\"Human: \\nGiven the question 'what is langchain?', generate a hypothetical document that directly answers this question. The document should be detailed and in-depth. The document size has be within 500 words.\\n\""
      ]
     },
     "execution_count": 89,
     "metadata": {},
     "output_type": "execute_result"
    }
   ],
   "source": [
    "from langchain_core.prompts import ChatPromptTemplate\n",
    "\n",
    "hyde_prompt = ChatPromptTemplate.from_template(\n",
    "    \"\"\"\n",
    "Given the question '{question}', generate a hypothetical document that directly answers this question. The document should be detailed and in-depth. The document size has be within {chunk_size} words.\n",
    "\"\"\"\n",
    ")\n",
    "hyde_prompt.format(question=\"what is langchain?\", chunk_size=500)"
   ]
  },
  {
   "cell_type": "code",
   "execution_count": 91,
   "metadata": {},
   "outputs": [
    {
     "data": {
      "text/html": [
       "<pre style=\"white-space:pre;overflow-x:auto;line-height:normal;font-family:Menlo,'DejaVu Sans Mono',consolas,'Courier New',monospace\">Langgraph is a hypothetical AI-driven semantic graph framework designed to represent, interlink, and query natural \n",
       "language constructs across multilingual datasets. It models linguistic units—words, phrases, entities, syntactic \n",
       "relations—as nodes and edges, enriched with embeddings capturing semantic, syntactic, and contextual nuances. By \n",
       "integrating ontologies, vector representations, and provenance metadata, Langgraph enables advanced tasks like \n",
       "cross-lingual information retrieval, contextual search, entity resolution, and reasoning over textual corpora. Its \n",
       "API supports graph-based queries, incremental learning, and real-time updates, fostering scalable NLP applications \n",
       "ranging from intelligent assistants to domain-specific knowledge discovery and automated summarization.\n",
       "</pre>\n"
      ],
      "text/plain": [
       "Langgraph is a hypothetical AI-driven semantic graph framework designed to represent, interlink, and query natural \n",
       "language constructs across multilingual datasets. It models linguistic units—words, phrases, entities, syntactic \n",
       "relations—as nodes and edges, enriched with embeddings capturing semantic, syntactic, and contextual nuances. By \n",
       "integrating ontologies, vector representations, and provenance metadata, Langgraph enables advanced tasks like \n",
       "cross-lingual information retrieval, contextual search, entity resolution, and reasoning over textual corpora. Its \n",
       "API supports graph-based queries, incremental learning, and real-time updates, fostering scalable NLP applications \n",
       "ranging from intelligent assistants to domain-specific knowledge discovery and automated summarization.\n"
      ]
     },
     "metadata": {},
     "output_type": "display_data"
    }
   ],
   "source": [
    "from rich import print\n",
    "llm_chain = hyde_prompt | chat_model\n",
    "question = \"what is Langgraph?\"\n",
    "generated_docs = llm_chain.invoke({\"question\": question, \"chunk_size\":100}).content\n",
    "print(generated_docs)"
   ]
  },
  {
   "cell_type": "code",
   "execution_count": 92,
   "metadata": {},
   "outputs": [
    {
     "data": {
      "text/html": [
       "<pre style=\"white-space:pre;overflow-x:auto;line-height:normal;font-family:Menlo,'DejaVu Sans Mono',consolas,'Courier New',monospace\"><span style=\"font-weight: bold\">[</span>\n",
       "    <span style=\"font-weight: bold\">(</span>\n",
       "        <span style=\"color: #800080; text-decoration-color: #800080; font-weight: bold\">Document</span><span style=\"font-weight: bold\">(</span>\n",
       "            <span style=\"color: #808000; text-decoration-color: #808000\">id</span>=<span style=\"color: #008000; text-decoration-color: #008000\">'8b571d4d-c929-49c2-9417-7406a1ec8fb4'</span>,\n",
       "            <span style=\"color: #808000; text-decoration-color: #808000\">metadata</span>=<span style=\"font-weight: bold\">{</span><span style=\"color: #008000; text-decoration-color: #008000\">'source'</span>: <span style=\"color: #008000; text-decoration-color: #008000\">'https://python.langchain.com/docs/introduction/'</span><span style=\"font-weight: bold\">}</span>,\n",
       "            <span style=\"color: #808000; text-decoration-color: #808000\">page_content</span>=<span style=\"color: #008000; text-decoration-color: #008000\">\"IntroductionOn this pageIntroduction\\nLangChain is a framework for developing </span>\n",
       "<span style=\"color: #008000; text-decoration-color: #008000\">applications powered by large language models (LLMs). LangChain simplifies every stage of the LLM application </span>\n",
       "<span style=\"color: #008000; text-decoration-color: #008000\">lifecycle:\\n\\nDevelopment: Build your applications using LangChain's open-source components and third-party </span>\n",
       "<span style=\"color: #008000; text-decoration-color: #008000\">integrations. Use LangGraph to build stateful agents with first-class streaming and human-in-the-loop support. </span>\n",
       "<span style=\"color: #008000; text-decoration-color: #008000\">Productionization: Use LangSmith to inspect, monitor and evaluate your applications, so that you can continuously </span>\n",
       "<span style=\"color: #008000; text-decoration-color: #008000\">optimize and deploy with confidence. Deployment: Turn your LangGraph applications into production-ready APIs and </span>\n",
       "<span style=\"color: #008000; text-decoration-color: #008000\">Assistants with LangGraph Platform. LangChain implements a standard interface for large language models and </span>\n",
       "<span style=\"color: #008000; text-decoration-color: #008000\">related\\ntechnologies, such as embedding models and vector stores, and integrates with\\nhundreds of providers.\"</span>\n",
       "        <span style=\"font-weight: bold\">)</span>,\n",
       "        <span style=\"color: #008080; text-decoration-color: #008080; font-weight: bold\">0.3512722849845886</span>\n",
       "    <span style=\"font-weight: bold\">)</span>,\n",
       "    <span style=\"font-weight: bold\">(</span>\n",
       "        <span style=\"color: #800080; text-decoration-color: #800080; font-weight: bold\">Document</span><span style=\"font-weight: bold\">(</span>\n",
       "            <span style=\"color: #808000; text-decoration-color: #808000\">id</span>=<span style=\"color: #008000; text-decoration-color: #008000\">'5d3b157f-729c-406f-90c9-8864906ec11f'</span>,\n",
       "            <span style=\"color: #808000; text-decoration-color: #808000\">metadata</span>=<span style=\"font-weight: bold\">{</span><span style=\"color: #008000; text-decoration-color: #008000\">'source'</span>: <span style=\"color: #008000; text-decoration-color: #008000\">'https://python.langchain.com/docs/introduction/'</span><span style=\"font-weight: bold\">}</span>,\n",
       "            <span style=\"color: #808000; text-decoration-color: #808000\">page_content</span>=<span style=\"color: #008000; text-decoration-color: #008000\">\"Architecture\\u200b\\nThe LangChain framework consists of multiple open-source libraries. </span>\n",
       "<span style=\"color: #008000; text-decoration-color: #008000\">Read more in the\\nArchitecture page. langchain-core: Base abstractions for chat models and other components. </span>\n",
       "<span style=\"color: #008000; text-decoration-color: #008000\">Integration packages (e.g. langchain-openai, langchain-anthropic, etc.): Important integrations have been split </span>\n",
       "<span style=\"color: #008000; text-decoration-color: #008000\">into lightweight packages that are co-maintained by the LangChain team and the integration developers. langchain: </span>\n",
       "<span style=\"color: #008000; text-decoration-color: #008000\">Chains, agents, and retrieval strategies that make up an application's cognitive architecture. langchain-community:</span>\n",
       "<span style=\"color: #008000; text-decoration-color: #008000\">Third-party integrations that are community maintained. langgraph: Orchestration framework for combining LangChain </span>\n",
       "<span style=\"color: #008000; text-decoration-color: #008000\">components into production-ready applications with persistence, streaming, and other key features. See LangGraph </span>\n",
       "<span style=\"color: #008000; text-decoration-color: #008000\">documentation. Guides\\u200b\\nTutorials\\u200b\\nIf you're looking to build something specific or are more of a </span>\n",
       "<span style=\"color: #008000; text-decoration-color: #008000\">hands-on learner, check out our tutorials section. This is the best place to get started. These are the best ones </span>\n",
       "<span style=\"color: #008000; text-decoration-color: #008000\">to get started with:\\n\\nBuild a Simple LLM Application\\nBuild a Chatbot\\nBuild an Agent\\nIntroduction to </span>\n",
       "<span style=\"color: #008000; text-decoration-color: #008000\">LangGraph\\n\\nExplore the full list of LangChain tutorials here, and check out other LangGraph tutorials here. To </span>\n",
       "<span style=\"color: #008000; text-decoration-color: #008000\">learn more about LangGraph, check out our first LangChain Academy course, Introduction to LangGraph, available </span>\n",
       "<span style=\"color: #008000; text-decoration-color: #008000\">here. How-to guides\\u200b\\nHere you’ll find short answers to “How do I….?” types of questions.\"</span>\n",
       "        <span style=\"font-weight: bold\">)</span>,\n",
       "        <span style=\"color: #008080; text-decoration-color: #008080; font-weight: bold\">0.3907158374786377</span>\n",
       "    <span style=\"font-weight: bold\">)</span>\n",
       "<span style=\"font-weight: bold\">]</span>\n",
       "</pre>\n"
      ],
      "text/plain": [
       "\u001b[1m[\u001b[0m\n",
       "    \u001b[1m(\u001b[0m\n",
       "        \u001b[1;35mDocument\u001b[0m\u001b[1m(\u001b[0m\n",
       "            \u001b[33mid\u001b[0m=\u001b[32m'8b571d4d-c929-49c2-9417-7406a1ec8fb4'\u001b[0m,\n",
       "            \u001b[33mmetadata\u001b[0m=\u001b[1m{\u001b[0m\u001b[32m'source'\u001b[0m: \u001b[32m'https://python.langchain.com/docs/introduction/'\u001b[0m\u001b[1m}\u001b[0m,\n",
       "            \u001b[33mpage_content\u001b[0m=\u001b[32m\"IntroductionOn\u001b[0m\u001b[32m this pageIntroduction\\nLangChain is a framework for developing \u001b[0m\n",
       "\u001b[32mapplications powered by large language models \u001b[0m\u001b[32m(\u001b[0m\u001b[32mLLMs\u001b[0m\u001b[32m)\u001b[0m\u001b[32m. LangChain simplifies every stage of the LLM application \u001b[0m\n",
       "\u001b[32mlifecycle:\\n\\nDevelopment: Build your applications using LangChain's open-source components and third-party \u001b[0m\n",
       "\u001b[32mintegrations. Use LangGraph to build stateful agents with first-class streaming and human-in-the-loop support. \u001b[0m\n",
       "\u001b[32mProductionization: Use LangSmith to inspect, monitor and evaluate your applications, so that you can continuously \u001b[0m\n",
       "\u001b[32moptimize and deploy with confidence. Deployment: Turn your LangGraph applications into production-ready APIs and \u001b[0m\n",
       "\u001b[32mAssistants with LangGraph Platform. LangChain implements a standard interface for large language models and \u001b[0m\n",
       "\u001b[32mrelated\\ntechnologies, such as embedding models and vector stores, and integrates with\\nhundreds of providers.\"\u001b[0m\n",
       "        \u001b[1m)\u001b[0m,\n",
       "        \u001b[1;36m0.3512722849845886\u001b[0m\n",
       "    \u001b[1m)\u001b[0m,\n",
       "    \u001b[1m(\u001b[0m\n",
       "        \u001b[1;35mDocument\u001b[0m\u001b[1m(\u001b[0m\n",
       "            \u001b[33mid\u001b[0m=\u001b[32m'5d3b157f-729c-406f-90c9-8864906ec11f'\u001b[0m,\n",
       "            \u001b[33mmetadata\u001b[0m=\u001b[1m{\u001b[0m\u001b[32m'source'\u001b[0m: \u001b[32m'https://python.langchain.com/docs/introduction/'\u001b[0m\u001b[1m}\u001b[0m,\n",
       "            \u001b[33mpage_content\u001b[0m=\u001b[32m\"Architecture\u001b[0m\u001b[32m\\u200b\\nThe LangChain framework consists of multiple open-source libraries. \u001b[0m\n",
       "\u001b[32mRead more in the\\nArchitecture page. langchain-core: Base abstractions for chat models and other components. \u001b[0m\n",
       "\u001b[32mIntegration packages \u001b[0m\u001b[32m(\u001b[0m\u001b[32me.g. langchain-openai, langchain-anthropic, etc.\u001b[0m\u001b[32m)\u001b[0m\u001b[32m: Important integrations have been split \u001b[0m\n",
       "\u001b[32minto lightweight packages that are co-maintained by the LangChain team and the integration developers. langchain: \u001b[0m\n",
       "\u001b[32mChains, agents, and retrieval strategies that make up an application's cognitive architecture. langchain-community:\u001b[0m\n",
       "\u001b[32mThird-party integrations that are community maintained. langgraph: Orchestration framework for combining LangChain \u001b[0m\n",
       "\u001b[32mcomponents into production-ready applications with persistence, streaming, and other key features. See LangGraph \u001b[0m\n",
       "\u001b[32mdocumentation. Guides\\u200b\\nTutorials\\u200b\\nIf you're looking to build something specific or are more of a \u001b[0m\n",
       "\u001b[32mhands-on learner, check out our tutorials section. This is the best place to get started. These are the best ones \u001b[0m\n",
       "\u001b[32mto get started with:\\n\\nBuild a Simple LLM Application\\nBuild a Chatbot\\nBuild an Agent\\nIntroduction to \u001b[0m\n",
       "\u001b[32mLangGraph\\n\\nExplore the full list of LangChain tutorials here, and check out other LangGraph tutorials here. To \u001b[0m\n",
       "\u001b[32mlearn more about LangGraph, check out our first LangChain Academy course, Introduction to LangGraph, available \u001b[0m\n",
       "\u001b[32mhere. How-to guides\\u200b\\nHere you’ll find short answers to “How do I….?” types of questions.\"\u001b[0m\n",
       "        \u001b[1m)\u001b[0m,\n",
       "        \u001b[1;36m0.3907158374786377\u001b[0m\n",
       "    \u001b[1m)\u001b[0m\n",
       "\u001b[1m]\u001b[0m\n"
      ]
     },
     "metadata": {},
     "output_type": "display_data"
    }
   ],
   "source": [
    "retrieved_docs = vector_store.similarity_search_with_score(question+generated_docs, k=2)\n",
    "print(retrieved_docs)"
   ]
  }
 ],
 "metadata": {
  "kernelspec": {
   "display_name": ".venv",
   "language": "python",
   "name": "python3"
  },
  "language_info": {
   "codemirror_mode": {
    "name": "ipython",
    "version": 3
   },
   "file_extension": ".py",
   "mimetype": "text/x-python",
   "name": "python",
   "nbconvert_exporter": "python",
   "pygments_lexer": "ipython3",
   "version": "3.13.4"
  }
 },
 "nbformat": 4,
 "nbformat_minor": 2
}
