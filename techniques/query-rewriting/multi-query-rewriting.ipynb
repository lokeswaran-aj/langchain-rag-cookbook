{
 "cells": [
  {
   "cell_type": "code",
   "execution_count": 9,
   "metadata": {},
   "outputs": [
    {
     "name": "stdout",
     "output_type": "stream",
     "text": [
      "Note: you may need to restart the kernel to use updated packages.\n"
     ]
    }
   ],
   "source": [
    "%pip install -qU langchain langchain-openai python-dotenv rich"
   ]
  },
  {
   "cell_type": "code",
   "execution_count": 3,
   "metadata": {},
   "outputs": [
    {
     "data": {
      "text/plain": [
       "True"
      ]
     },
     "execution_count": 3,
     "metadata": {},
     "output_type": "execute_result"
    }
   ],
   "source": [
    "from dotenv import load_dotenv\n",
    "\n",
    "load_dotenv(override=True)"
   ]
  },
  {
   "cell_type": "code",
   "execution_count": 34,
   "metadata": {},
   "outputs": [],
   "source": [
    "from langchain_openai import ChatOpenAI\n",
    "\n",
    "schema = {\n",
    "    \"title\": \"MultiQueryOutput\",\n",
    "    \"description\": \"Generate multiple query variations\",\n",
    "    \"type\": \"object\", \n",
    "    \"properties\": {\n",
    "        \"queries\": {\n",
    "            \"type\": \"array\",\n",
    "            \"items\": {\"type\": \"string\"},\n",
    "            \"description\": \"List of alternative query formulations\"\n",
    "        }\n",
    "    }\n",
    "}\n",
    "chat_model = ChatOpenAI(model=\"gpt-4o-mini\").with_structured_output(schema=schema)"
   ]
  },
  {
   "cell_type": "code",
   "execution_count": 35,
   "metadata": {},
   "outputs": [
    {
     "data": {
      "text/plain": [
       "'Human: \\nYou are an AI language model assistant. Your task is to generate five different versions of the given user question to retrieve relevant documents from a vector database in JSON format. By generating multiple perspectives on the user question, your goal is to help the user overcome some of the limitations of the distance-based similarity search. Provide these alternative questions separated by newlines.Original question: what is langchain?\\n'"
      ]
     },
     "execution_count": 35,
     "metadata": {},
     "output_type": "execute_result"
    }
   ],
   "source": [
    "from langchain_core.prompts import ChatPromptTemplate\n",
    "\n",
    "multi_query_prompt = ChatPromptTemplate.from_template(\n",
    "    \"\"\"\n",
    "You are an AI language model assistant. Your task is to generate five different versions of the given user question to retrieve relevant documents from a vector database in JSON format. By generating multiple perspectives on the user question, your goal is to help the user overcome some of the limitations of the distance-based similarity search. Provide these alternative questions separated by newlines.Original question: {question}\n",
    "\"\"\"\n",
    ")\n",
    "multi_query_prompt.format(question=\"what is langchain?\")"
   ]
  },
  {
   "cell_type": "code",
   "execution_count": null,
   "metadata": {},
   "outputs": [
    {
     "data": {
      "text/html": [
       "<pre style=\"white-space:pre;overflow-x:auto;line-height:normal;font-family:Menlo,'DejaVu Sans Mono',consolas,'Courier New',monospace\"><span style=\"font-weight: bold\">{</span>\n",
       "    <span style=\"color: #008000; text-decoration-color: #008000\">'queries'</span>: <span style=\"font-weight: bold\">[</span>\n",
       "        <span style=\"color: #008000; text-decoration-color: #008000\">'Can you explain what Langchain is?'</span>,\n",
       "        <span style=\"color: #008000; text-decoration-color: #008000\">'What does Langchain refer to in the context of programming?'</span>,\n",
       "        <span style=\"color: #008000; text-decoration-color: #008000\">'What are the main features and functions of Langchain?'</span>,\n",
       "        <span style=\"color: #008000; text-decoration-color: #008000\">'In which applications is Langchain commonly used?'</span>,\n",
       "        <span style=\"color: #008000; text-decoration-color: #008000\">'Can you provide an overview of Langchain and its significance?'</span>\n",
       "    <span style=\"font-weight: bold\">]</span>\n",
       "<span style=\"font-weight: bold\">}</span>\n",
       "</pre>\n"
      ],
      "text/plain": [
       "\u001b[1m{\u001b[0m\n",
       "    \u001b[32m'queries'\u001b[0m: \u001b[1m[\u001b[0m\n",
       "        \u001b[32m'Can you explain what Langchain is?'\u001b[0m,\n",
       "        \u001b[32m'What does Langchain refer to in the context of programming?'\u001b[0m,\n",
       "        \u001b[32m'What are the main features and functions of Langchain?'\u001b[0m,\n",
       "        \u001b[32m'In which applications is Langchain commonly used?'\u001b[0m,\n",
       "        \u001b[32m'Can you provide an overview of Langchain and its significance?'\u001b[0m\n",
       "    \u001b[1m]\u001b[0m\n",
       "\u001b[1m}\u001b[0m\n"
      ]
     },
     "metadata": {},
     "output_type": "display_data"
    }
   ],
   "source": [
    "from rich import print\n",
    "llm_chain = multi_query_prompt | chat_model\n",
    "result = llm_chain.invoke({\"question\": \"what is langchain?\"})\n",
    "print(result)"
   ]
  }
 ],
 "metadata": {
  "kernelspec": {
   "display_name": ".venv",
   "language": "python",
   "name": "python3"
  },
  "language_info": {
   "codemirror_mode": {
    "name": "ipython",
    "version": 3
   },
   "file_extension": ".py",
   "mimetype": "text/x-python",
   "name": "python",
   "nbconvert_exporter": "python",
   "pygments_lexer": "ipython3",
   "version": "3.13.4"
  }
 },
 "nbformat": 4,
 "nbformat_minor": 2
}
